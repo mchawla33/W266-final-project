{
  "nbformat": 4,
  "nbformat_minor": 0,
  "metadata": {
    "colab": {
      "name": "EDA -- Amazon.ipynb",
      "provenance": [],
      "collapsed_sections": []
    },
    "kernelspec": {
      "name": "python3",
      "display_name": "Python 3"
    },
    "language_info": {
      "name": "python"
    }
  },
  "cells": [
    {
      "cell_type": "code",
      "metadata": {
        "id": "tEXurehY-uzE"
      },
      "source": [
        "import os\n",
        "import json\n",
        "import gzip\n",
        "import pandas as pd\n",
        "import numpy as np\n",
        "import matplotlib.pyplot as plt\n",
        "import datetime\n",
        "from urllib.request import urlopen\n",
        "from sklearn.feature_extraction.text import TfidfVectorizer\n",
        "from sklearn.linear_model import LogisticRegression\n",
        "from sklearn.metrics import accuracy_score\n",
        "from sklearn.model_selection import train_test_split\n",
        "pd.set_option('display.max_colwidth', None)"
      ],
      "execution_count": null,
      "outputs": []
    },
    {
      "cell_type": "code",
      "metadata": {
        "colab": {
          "base_uri": "https://localhost:8080/"
        },
        "id": "24vGSPs3G-3m",
        "outputId": "b9df104d-9164-482e-8304-0f201562370a"
      },
      "source": [
        "!wget http://deepyeti.ucsd.edu/jianmo/amazon/categoryFiles/All_Amazon_Review_5.json.gz"
      ],
      "execution_count": null,
      "outputs": [
        {
          "output_type": "stream",
          "name": "stdout",
          "text": [
            "--2021-11-02 05:26:40--  http://deepyeti.ucsd.edu/jianmo/amazon/categoryFiles/All_Amazon_Review_5.json.gz\n",
            "Resolving deepyeti.ucsd.edu (deepyeti.ucsd.edu)... 169.228.63.50\n",
            "Connecting to deepyeti.ucsd.edu (deepyeti.ucsd.edu)|169.228.63.50|:80... connected.\n",
            "HTTP request sent, awaiting response... 200 OK\n",
            "Length: 25270692239 (24G) [application/octet-stream]\n",
            "Saving to: ‘All_Amazon_Review_5.json.gz’\n",
            "\n",
            "All_Amazon_Review_5 100%[===================>]  23.54G  58.7MB/s    in 7m 32s  \n",
            "\n",
            "2021-11-02 05:34:13 (53.3 MB/s) - ‘All_Amazon_Review_5.json.gz’ saved [25270692239/25270692239]\n",
            "\n"
          ]
        }
      ]
    },
    {
      "cell_type": "code",
      "metadata": {
        "id": "4WU7hy2GHG2s"
      },
      "source": [
        "# data = []\n",
        "# with gzip.open('All_Amazon_Review_5.json.gz') as f:\n",
        "#     counter = 0\n",
        "#     for l in f:\n",
        "#         #Using first 1M records. All records used up all the RAM. \n",
        "#         if counter == 1000000:\n",
        "#           break\n",
        "#         data.append(json.loads(l.strip()))\n",
        "#         counter += 1\n",
        "    \n",
        "# # total length of list, this number equals total number of products\n",
        "# print(len(data))\n",
        "\n",
        "# # first row of the list\n",
        "# print(data[0])"
      ],
      "execution_count": null,
      "outputs": []
    },
    {
      "cell_type": "code",
      "metadata": {
        "id": "c1_slWqnI4rc"
      },
      "source": [
        "# df = pd.DataFrame.from_dict(data)\n",
        "\n",
        "# print(len(df))"
      ],
      "execution_count": null,
      "outputs": []
    },
    {
      "cell_type": "code",
      "metadata": {
        "id": "QfLBEQY8KAwV"
      },
      "source": [
        "# df = df.dropna()\n",
        "# print(len(df))"
      ],
      "execution_count": null,
      "outputs": []
    },
    {
      "cell_type": "code",
      "metadata": {
        "id": "0PUDCxI-KPUw"
      },
      "source": [
        "# sentiment_df = pd.concat([df['unixReviewTime'], df['reviewText'], df['overall']], axis=1)\n",
        "# sentiment_df['sentiment'] = np.where(sentiment_df['overall'] < 3, 'Negative', np.where(sentiment_df['overall'] > 3, 'Positive', 'Neutral'))\n",
        "# sentiment_df.head()"
      ],
      "execution_count": null,
      "outputs": []
    },
    {
      "cell_type": "code",
      "metadata": {
        "id": "1b5_yT40KyCM"
      },
      "source": [
        "# labels = ['Positive', 'Neutral', 'Negative']\n",
        "# counts = [0,0,0]\n",
        "\n",
        "# counts[0] = len(sentiment_df.where(sentiment_df['sentiment'] == 'Positive').dropna())\n",
        "# counts[1] = len(sentiment_df.where(sentiment_df['sentiment'] == 'Neutral').dropna())\n",
        "# counts[2] = len(sentiment_df.where(sentiment_df['sentiment'] == 'Negative').dropna())\n",
        "\n",
        "# print(counts)"
      ],
      "execution_count": null,
      "outputs": []
    },
    {
      "cell_type": "code",
      "metadata": {
        "id": "4vaATDAJNaZH"
      },
      "source": [
        "# plt.bar(labels, counts)\n",
        "# plt.title('Sentiment Distribution')\n",
        "# plt.xlabel('Sentiment')\n",
        "# plt.ylabel('Number of Records')"
      ],
      "execution_count": null,
      "outputs": []
    },
    {
      "cell_type": "code",
      "metadata": {
        "colab": {
          "base_uri": "https://localhost:8080/"
        },
        "id": "SplazVicOHzC",
        "outputId": "8de4cbd9-0fb6-40e8-8de8-7c5c863a1fee"
      },
      "source": [
        "balanced_data = []\n",
        "with gzip.open('All_Amazon_Review_5.json.gz') as f:\n",
        "    pos_limit = 500000\n",
        "    neg_limit = 500000\n",
        "    for l in f:\n",
        "        #Using first 1M records. All records used up all the RAM. \n",
        "        if pos_limit == 0 and neg_limit == 0:\n",
        "          break\n",
        "        json_data = json.loads(l.strip())\n",
        "        overall = json_data['overall']\n",
        "        if overall < 4.0 and neg_limit > 0: \n",
        "          balanced_data.append(json_data)\n",
        "          neg_limit -= 1\n",
        "        elif overall > 4.0 and pos_limit > 0:\n",
        "          balanced_data.append(json_data)\n",
        "          pos_limit -= 1\n",
        "    \n",
        "# total length of list, this number equals total number of products\n",
        "print(len(balanced_data))\n",
        "\n",
        "# first row of the list\n",
        "print(balanced_data[0])\n",
        "print(pos_limit,neg_limit)"
      ],
      "execution_count": null,
      "outputs": [
        {
          "output_type": "stream",
          "name": "stdout",
          "text": [
            "1000000\n",
            "{'overall': 2.0, 'verified': False, 'reviewTime': '12 5, 2015', 'reviewerID': 'A3KUPJ396OQF78', 'asin': 'B017O9P72A', 'reviewerName': 'Larry Russlin', 'reviewText': 'Can only control one of two bulbs from one of two echos', 'summary': 'Buggy', 'unixReviewTime': 1449273600}\n",
            "0 0\n"
          ]
        }
      ]
    },
    {
      "cell_type": "code",
      "metadata": {
        "colab": {
          "base_uri": "https://localhost:8080/"
        },
        "id": "aKAbrzjtHA1C",
        "outputId": "3c2a2577-4e75-4290-e380-3b4b50ce9c99"
      },
      "source": [
        "balanced_df = pd.DataFrame.from_dict(balanced_data)\n",
        "b_sentiment_df = pd.concat([balanced_df['unixReviewTime'], balanced_df['reviewText'], balanced_df['overall']], axis=1)\n",
        "b_sentiment_df['sentiment'] = np.where(b_sentiment_df['overall'] < 4.0, -1, 1)\n",
        "b_sentiment_df.head()\n",
        "b_sentiment_df.dtypes"
      ],
      "execution_count": null,
      "outputs": [
        {
          "output_type": "execute_result",
          "data": {
            "text/plain": [
              "unixReviewTime      int64\n",
              "reviewText         object\n",
              "overall           float64\n",
              "sentiment           int64\n",
              "dtype: object"
            ]
          },
          "metadata": {},
          "execution_count": 10
        }
      ]
    },
    {
      "cell_type": "code",
      "metadata": {
        "colab": {
          "base_uri": "https://localhost:8080/"
        },
        "id": "QyNOXqTOImi7",
        "outputId": "756b5d1e-e8dc-4f86-9b63-668217868276"
      },
      "source": [
        "labels = ['Positive', 'Negative']\n",
        "counts = [0, 0]\n",
        "\n",
        "counts[0] = len(b_sentiment_df.where(b_sentiment_df['sentiment'] == 1).dropna())\n",
        "counts[1] = len(b_sentiment_df.where(b_sentiment_df['sentiment'] == -1).dropna())\n",
        "\n",
        "print(counts)\n",
        "print(counts[0] + counts[1])"
      ],
      "execution_count": null,
      "outputs": [
        {
          "output_type": "stream",
          "name": "stdout",
          "text": [
            "[499709, 499915]\n",
            "999624\n"
          ]
        }
      ]
    },
    {
      "cell_type": "code",
      "metadata": {
        "colab": {
          "base_uri": "https://localhost:8080/",
          "height": 312
        },
        "id": "kGJLZkJpI37q",
        "outputId": "7b23943d-eb5b-49a4-8be4-768abd3bcd9c"
      },
      "source": [
        "plt.bar(labels, counts)\n",
        "plt.title('Sentiment Distribution')\n",
        "plt.xlabel('Sentiment')\n",
        "plt.ylabel('Number of Records')"
      ],
      "execution_count": null,
      "outputs": [
        {
          "output_type": "execute_result",
          "data": {
            "text/plain": [
              "Text(0, 0.5, 'Number of Records')"
            ]
          },
          "metadata": {},
          "execution_count": 12
        },
        {
          "output_type": "display_data",
          "data": {
            "image/png": "[encoded data removed]",
            "text/plain": [
              "<Figure size 432x288 with 1 Axes>"
            ]
          },
          "metadata": {
            "needs_background": "light"
          }
        }
      ]
    },
    {
      "cell_type": "markdown",
      "metadata": {
        "id": "GW2FUzV3TPxj"
      },
      "source": [
        "will use this balanced data set for training. "
      ]
    },
    {
      "cell_type": "code",
      "metadata": {
        "id": "QGn_r80sTTFp"
      },
      "source": [
        "b_sentiment_df['datetimeReviewTime'] = pd.to_datetime(b_sentiment_df['unixReviewTime'], unit='s')\n",
        "b_sentiment_df.head()\n",
        "\n",
        "counts = {}\n",
        "\n",
        "for i, x in b_sentiment_df.iterrows():\n",
        "  year = x['datetimeReviewTime'].year\n",
        "\n",
        "  if year not in counts:\n",
        "    counts[year] = 1\n",
        "  else:\n",
        "    counts[year] += 1"
      ],
      "execution_count": null,
      "outputs": []
    },
    {
      "cell_type": "code",
      "metadata": {
        "colab": {
          "base_uri": "https://localhost:8080/"
        },
        "id": "uWVdvvrITzYU",
        "outputId": "9513ab3f-3e6b-4868-c8ef-e05df44a88a8"
      },
      "source": [
        "sorted_counts = {}\n",
        "\n",
        "for i in sorted(counts.keys()):\n",
        "  sorted_counts[i] = counts[i]\n",
        "print(sorted_counts)"
      ],
      "execution_count": null,
      "outputs": [
        {
          "output_type": "stream",
          "name": "stdout",
          "text": [
            "{1999: 2, 2000: 13, 2001: 82, 2002: 213, 2003: 299, 2004: 443, 2005: 821, 2006: 1280, 2007: 3803, 2008: 7116, 2009: 11595, 2010: 14706, 2011: 18730, 2012: 34404, 2013: 81727, 2014: 127800, 2015: 206084, 2016: 229584, 2017: 181477, 2018: 79821}\n"
          ]
        }
      ]
    },
    {
      "cell_type": "code",
      "metadata": {
        "colab": {
          "base_uri": "https://localhost:8080/"
        },
        "id": "QcsiLD-xX6Gk",
        "outputId": "ab1255ad-076a-47b7-f035-ad64d63d4915"
      },
      "source": [
        "print(list(sorted_counts.values()))\n",
        "\n"
      ],
      "execution_count": null,
      "outputs": [
        {
          "output_type": "stream",
          "name": "stdout",
          "text": [
            "[2, 13, 82, 213, 299, 443, 821, 1280, 3803, 7116, 11595, 14706, 18730, 34404, 81727, 127800, 206084, 229584, 181477, 79821]\n"
          ]
        }
      ]
    },
    {
      "cell_type": "markdown",
      "metadata": {
        "id": "HHVdpaapZIjD"
      },
      "source": [
        "There is a good amount of data from 2012 to 2017. Will use this time range to validate issue"
      ]
    },
    {
      "cell_type": "code",
      "metadata": {
        "id": "ibc2DbLwoSgK"
      },
      "source": [
        "b_sentiment_df = b_sentiment_df.set_index(['datetimeReviewTime'])\n",
        "b_sentiment_df['reviewText'] = np.where(pd.isnull(b_sentiment_df['reviewText']), b_sentiment_df['reviewText'], b_sentiment_df['reviewText'].astype(str))"
      ],
      "execution_count": null,
      "outputs": []
    },
    {
      "cell_type": "code",
      "metadata": {
        "id": "HSbkBaakZMTp"
      },
      "source": [
        "df_13 = b_sentiment_df.loc['2013-01-01':'2014-01-01']\n",
        "df_14 = b_sentiment_df.loc['2014-01-01':'2015-01-01']\n",
        "df_15 = b_sentiment_df.loc['2015-01-01':'2016-01-01']\n",
        "df_16 = b_sentiment_df.loc['2016-01-01':'2017-01-01']\n",
        "df_17 = b_sentiment_df.loc['2017-01-01':'2018-01-01']\n",
        "df_18 = b_sentiment_df.loc['2018-01-01':'2019-01-01']\n",
        "\n",
        "\n",
        "sample_size = 40000\n",
        "\n",
        "df_old = pd.concat([df_13.sample(sample_size), df_14.sample(sample_size)]).dropna()\n",
        "df_new = pd.concat([df_15.sample(sample_size), df_16.sample(sample_size)]).dropna()\n",
        "df_test = pd.concat([df_17.sample(sample_size), df_18.sample(sample_size)]).dropna()\n"
      ],
      "execution_count": null,
      "outputs": []
    },
    {
      "cell_type": "markdown",
      "metadata": {
        "id": "v8_g5vJV877i"
      },
      "source": [
        "The below section will attempt to recreate the issue seen in the Sentiment Analysis paper. Data from two time periods will be used to train two different models. This will then be analyzed against data from a third time period. The model closer in time to the test data should perform better. "
      ]
    },
    {
      "cell_type": "code",
      "metadata": {
        "id": "_8SDnduqoSeL"
      },
      "source": [
        "\n",
        "old_text = df_old['reviewText']\n",
        "new_text = df_new['reviewText']\n",
        "test_text = df_test['reviewText']\n",
        "\n",
        "all_text = pd.concat([old_text, new_text, test_text])\n",
        "\n",
        "word_vectorizer = TfidfVectorizer(\n",
        "    strip_accents='unicode',\n",
        "    analyzer='word',\n",
        "    stop_words='english',\n",
        "    ngram_range=(1, 1))\n",
        "\n",
        "word_vectorizer.fit(all_text)\n",
        "\n",
        "old_features = word_vectorizer.transform(old_text)\n",
        "new_features = word_vectorizer.transform(new_text)\n",
        "test_features = word_vectorizer.transform(test_text)\n",
        "\n"
      ],
      "execution_count": null,
      "outputs": []
    },
    {
      "cell_type": "code",
      "metadata": {
        "id": "C0jMGmIyjkCl",
        "colab": {
          "base_uri": "https://localhost:8080/"
        },
        "outputId": "b9adbe65-23dd-461b-bfb2-14a4e3774f5b"
      },
      "source": [
        "old_model = LogisticRegression(random_state=12345, solver='liblinear')\n",
        "old_model.fit(old_features, df_old['sentiment'])\n",
        "predictions = old_model.predict(test_features)\n",
        "old_model_accuracy = accuracy_score(df_test['sentiment'], predictions)\n",
        "print(old_model_accuracy)\n",
        "\n",
        "\n",
        "new_model = LogisticRegression(random_state=12345, solver='liblinear')\n",
        "new_model.fit(new_features, df_new['sentiment'])\n",
        "new_predictions = new_model.predict(test_features)\n",
        "new_model_accuracy = accuracy_score(df_test['sentiment'], new_predictions)\n",
        "print(new_model_accuracy)"
      ],
      "execution_count": null,
      "outputs": [
        {
          "output_type": "stream",
          "name": "stdout",
          "text": [
            "0.8683687127078044\n",
            "0.8792139399322016\n"
          ]
        }
      ]
    },
    {
      "cell_type": "markdown",
      "metadata": {
        "id": "gtIcWkL98k8h"
      },
      "source": [
        "The accuracy for the old model is lower than the new model. This is the same results as shown in the Sentiment Analysis paper. This is the problem we will be looking to solve by including time as a feature. "
      ]
    },
    {
      "cell_type": "markdown",
      "metadata": {
        "id": "zOxfFG9KnOZZ"
      },
      "source": [
        "What happens if we use the old model to predict all 4 future years? Does the accuracy decrease as we get farther from the training data?"
      ]
    },
    {
      "cell_type": "code",
      "metadata": {
        "id": "uqhi3XDfnWlm"
      },
      "source": [
        "df_comb = pd.concat([df_15.sample(sample_size), df_16.sample(sample_size), df_17.sample(sample_size), df_18.sample(sample_size)]).dropna()\n",
        "comb_text = df_comb['reviewText']\n",
        "comb_features = word_vectorizer.transform(comb_text)\n",
        "comb_predictions = old_model.predict(comb_features)\n"
      ],
      "execution_count": null,
      "outputs": []
    },
    {
      "cell_type": "code",
      "metadata": {
        "colab": {
          "base_uri": "https://localhost:8080/"
        },
        "id": "FL2KLNdzopFy",
        "outputId": "2ddce284-7c8d-448b-ca48-aa1ce1d5d66d"
      },
      "source": [
        "year_correct = {'2015': 0, '2016': 0, '2017': 0, '2018': 0}\n",
        "year_total = {'2015': 0, '2016': 0, '2017': 0, '2018': 0}\n",
        "\n",
        "for i in range(len(comb_predictions)):\n",
        "  \n",
        "  if(comb_predictions[i] == df_comb['sentiment'][i]):\n",
        "    year_correct[str(df_comb.index[i].year)] += 1\n",
        "  \n",
        "  year_total[str(df_comb.index[i].year)] += 1\n",
        "\n",
        "\n",
        "print(year_correct)\n",
        "print(year_total)"
      ],
      "execution_count": null,
      "outputs": [
        {
          "output_type": "stream",
          "name": "stdout",
          "text": [
            "{'2015': 34988, '2016': 34870, '2017': 34904, '2018': 34756}\n",
            "{'2015': 39883, '2016': 39962, '2017': 40016, '2018': 40045}\n"
          ]
        }
      ]
    },
    {
      "cell_type": "code",
      "metadata": {
        "colab": {
          "base_uri": "https://localhost:8080/",
          "height": 265
        },
        "id": "ywv7qoHpqXYW",
        "outputId": "2a3091c9-431f-4cce-a3d8-5bf90977e8d7"
      },
      "source": [
        "year_accuracy = {}\n",
        "\n",
        "for year in year_correct:\n",
        "  year_accuracy[year] = year_correct[year] / year_total[year]\n",
        "\n",
        "plt.plot(list(year_accuracy.keys()), list(year_accuracy.values()))\n",
        "plt.show()"
      ],
      "execution_count": null,
      "outputs": [
        {
          "output_type": "display_data",
          "data": {
            "image/png": "[encoded data removed]",
            "text/plain": [
              "<Figure size 432x288 with 1 Axes>"
            ]
          },
          "metadata": {
            "needs_background": "light"
          }
        }
      ]
    },
    {
      "cell_type": "code",
      "metadata": {
        "id": "04VUyvnbqgC_"
      },
      "source": [
        ""
      ],
      "execution_count": null,
      "outputs": []
    },
    {
      "cell_type": "markdown",
      "metadata": {
        "id": "OtZwEnS5q7cq"
      },
      "source": [
        "There is a general downward trend in the accuracy, although the difference is small, ranging from 0.874 to 0.868, approximately the 1.5% that was seen earlier\n"
      ]
    },
    {
      "cell_type": "markdown",
      "metadata": {
        "id": "LUfWzeZtr4Av"
      },
      "source": [
        "Lets see what happens if we train the model more traditionally, using an 80 / 20 split on all of the data"
      ]
    },
    {
      "cell_type": "code",
      "metadata": {
        "colab": {
          "base_uri": "https://localhost:8080/"
        },
        "id": "-ZUCgn40rdsV",
        "outputId": "ecf4aeaf-f4e4-415b-9ea6-3ad622f49c41"
      },
      "source": [
        "df_total = pd.concat([df_13.sample(sample_size), df_14.sample(sample_size), df_15.sample(sample_size), df_16.sample(sample_size), df_17.sample(sample_size), df_18.sample(sample_size)]).dropna()\n",
        "\n",
        "train_data, test_data, train_sentiment, test_sentiment = train_test_split(df_total.drop('sentiment', axis=1), df_total['sentiment'], test_size=0.2, random_state=12345)\n",
        "print(train_data.shape)\n",
        "print(train_sentiment.shape)\n",
        "print(test_data.shape)\n",
        "print(test_sentiment.shape)\n",
        "\n",
        "train_features = word_vectorizer.transform(train_data['reviewText'])\n",
        "test_features = word_vectorizer.transform(test_data['reviewText'])\n",
        "\n"
      ],
      "execution_count": null,
      "outputs": [
        {
          "output_type": "stream",
          "name": "stdout",
          "text": [
            "(191926, 3)\n",
            "(191926,)\n",
            "(47982, 3)\n",
            "(47982,)\n"
          ]
        }
      ]
    },
    {
      "cell_type": "code",
      "metadata": {
        "colab": {
          "base_uri": "https://localhost:8080/"
        },
        "id": "Q3kZWCd7soqH",
        "outputId": "4920e007-1adf-4581-87cc-0b5b66cf5ce0"
      },
      "source": [
        "total_model = LogisticRegression(random_state=12345, solver='liblinear')\n",
        "total_model.fit(train_features, train_sentiment)\n",
        "total_predictions = total_model.predict(test_features)\n",
        "total_model_accuracy = accuracy_score(test_sentiment, total_predictions)\n",
        "print(total_model_accuracy)"
      ],
      "execution_count": null,
      "outputs": [
        {
          "output_type": "stream",
          "name": "stdout",
          "text": [
            "0.8828727439456463\n"
          ]
        }
      ]
    },
    {
      "cell_type": "code",
      "metadata": {
        "colab": {
          "base_uri": "https://localhost:8080/"
        },
        "id": "cx-UEZ6ctviW",
        "outputId": "134859c5-6d29-4d24-ee5a-39e020cb41db"
      },
      "source": [
        "print(\"Overall accuracy: \" + str(total_model_accuracy))\n",
        "\n",
        "\n",
        "\n",
        "year_correct = {'2013': 0, '2014': 0, '2015': 0, '2016': 0, '2017': 0, '2018': 0}\n",
        "year_total = {'2013': 0, '2014': 0, '2015': 0, '2016': 0, '2017': 0, '2018': 0}\n",
        "\n",
        "for i in range(len(total_predictions)):\n",
        "  \n",
        "  if(total_predictions[i] == test_sentiment[i]):\n",
        "    year_correct[str(test_data.index[i].year)] += 1\n",
        "  \n",
        "  year_total[str(test_data.index[i].year)] += 1\n"
      ],
      "execution_count": null,
      "outputs": [
        {
          "output_type": "stream",
          "name": "stdout",
          "text": [
            "Overall accuracy: 0.8828727439456463\n"
          ]
        }
      ]
    },
    {
      "cell_type": "code",
      "metadata": {
        "colab": {
          "base_uri": "https://localhost:8080/",
          "height": 265
        },
        "id": "Fl03sar6u2F_",
        "outputId": "f0cc9a5b-ccea-46bb-bba4-d860c49813af"
      },
      "source": [
        "year_accuracy = {}\n",
        "\n",
        "for year in year_correct:\n",
        "  year_accuracy[year] = year_correct[year] / year_total[year]\n",
        "\n",
        "plt.plot(list(year_accuracy.keys()), list(year_accuracy.values()))\n",
        "plt.show()"
      ],
      "execution_count": null,
      "outputs": [
        {
          "output_type": "display_data",
          "data": {
            "image/png": "[encoded data removed]",
            "text/plain": [
              "<Figure size 432x288 with 1 Axes>"
            ]
          },
          "metadata": {
            "needs_background": "light"
          }
        }
      ]
    },
    {
      "cell_type": "markdown",
      "metadata": {
        "id": "X54WGeLQwL2d"
      },
      "source": [
        "The accuracy is no longer dropping consistently over time, but it is not exactly stable either. Adding time as a feature should increase the overall accuracy and each year's accuracy. "
      ]
    },
    {
      "cell_type": "code",
      "metadata": {
        "id": "otmlPLwQwHD3"
      },
      "source": [
        "train_data, test_data, train_sentiment, test_sentiment = train_test_split(df_total.drop('sentiment', axis=1), df_total['sentiment'], test_size=0.2, random_state=12345)\n",
        "# print(train_data.shape)\n",
        "# print(train_sentiment.shape)\n",
        "# print(test_data.shape)\n",
        "# print(test_sentiment.shape)\n",
        "\n",
        "training_strings = []\n",
        "test_strings = []\n",
        "\n",
        "for i, x in train_data.iterrows(): \n",
        "  training_string = str(i.year) + ' ' +  x['reviewText']\n",
        "  train_data.loc[i, 'text_with_year'] = training_string \n",
        "\n",
        "for i, x in test_data.iterrows(): \n",
        "  training_string = str(i.year) + ' ' +  x['reviewText']\n",
        "  test_data.loc[i, 'text_with_year'] = training_string \n"
      ],
      "execution_count": null,
      "outputs": []
    },
    {
      "cell_type": "code",
      "metadata": {
        "colab": {
          "base_uri": "https://localhost:8080/"
        },
        "id": "GMuzN8JMxM0I",
        "outputId": "513e099f-f030-45a6-a28c-c71a4708167f"
      },
      "source": [
        "# print(train_data.columns)\n",
        "# print(train_data.head())\n",
        "# print(test_data.head())"
      ],
      "execution_count": null,
      "outputs": [
        {
          "output_type": "stream",
          "name": "stdout",
          "text": [
            "Index(['unixReviewTime', 'reviewText', 'overall'], dtype='object')\n",
            "                    unixReviewTime  ... overall\n",
            "datetimeReviewTime                  ...        \n",
            "2015-10-22              1445472000  ...     5.0\n",
            "2016-11-20              1479600000  ...     3.0\n",
            "2018-02-13              1518480000  ...     5.0\n",
            "2015-11-30              1448841600  ...     5.0\n",
            "2015-01-12              1421020800  ...     5.0\n",
            "\n",
            "[5 rows x 3 columns]\n",
            "                    unixReviewTime  ...                                                                                                                                                                                               text_with_year\n",
            "datetimeReviewTime                  ...                                                                                                                                                                                                             \n",
            "2013-04-09              1365465600  ...                                                                  2013 bought this item in december 2012 and around february 2013, one side of the audio becase inoperative.  sending it back under warranty.\n",
            "2016-07-29              1469750400  ...                                                          2016 recieved my package yesterday,on time but the CD is not playing, tried four different Cd's but none played..The Bluetooth works very well tho.\n",
            "2016-07-13              1468368000  ...                                2016 Obviously this is a great deal for Prime members.  Audible is my favorite source for audiobooks and three months free is a great way to start your audiobook collection.\n",
            "2015-03-28              1427500800  ...                                                                                     2015 Wow it is better and clearer than my old one.  I am older so I have some of learning curve. But I am getting there.\n",
            "2014-12-07              1417910400  ...  2014 Everything worked ok, and I would have given it 5 stars; but, and it is a big but, there is no rear camera, only a front one. Which means no picture taking, (selfie only). However, skyping is great.\n",
            "\n",
            "[5 rows x 4 columns]\n"
          ]
        }
      ]
    },
    {
      "cell_type": "code",
      "metadata": {
        "id": "3V0a98iCLzLN"
      },
      "source": [
        "word_vectorizer_with_year = TfidfVectorizer(\n",
        "    strip_accents='unicode',\n",
        "    analyzer='word',\n",
        "    stop_words='english',\n",
        "    ngram_range=(1, 1))\n",
        "\n",
        "all_text = pd.concat([train_data['text_with_year'], test_data['text_with_year']])\n",
        "\n",
        "word_vectorizer_with_year.fit(all_text)\n",
        "\n",
        "train_features = word_vectorizer_with_year.transform(train_data['text_with_year'])\n",
        "test_features = word_vectorizer_with_year.transform(test_data['text_with_year'])"
      ],
      "execution_count": null,
      "outputs": []
    },
    {
      "cell_type": "code",
      "metadata": {
        "colab": {
          "base_uri": "https://localhost:8080/"
        },
        "id": "GbS3GrkZPjyq",
        "outputId": "033ba5a5-a1fa-4f24-fcab-8b5653dca621"
      },
      "source": [
        "year_model = LogisticRegression(random_state=12345, solver='liblinear')\n",
        "year_model.fit(train_features, train_sentiment)\n",
        "year_predictions = year_model.predict(test_features)\n",
        "year_model_accuracy = accuracy_score(test_sentiment, year_predictions)\n",
        "print(year_model_accuracy)"
      ],
      "execution_count": null,
      "outputs": [
        {
          "output_type": "stream",
          "name": "stdout",
          "text": [
            "0.5181943228710767\n"
          ]
        }
      ]
    },
    {
      "cell_type": "markdown",
      "metadata": {
        "id": "hTQ3W7xQTyNN"
      },
      "source": [
        "accuracy is much lower. Need to look into why. "
      ]
    },
    {
      "cell_type": "code",
      "metadata": {
        "colab": {
          "base_uri": "https://localhost:8080/",
          "height": 265
        },
        "id": "NhdzyeHkTdza",
        "outputId": "34a9b2f9-c993-4e80-fb4e-47ae704a3e48"
      },
      "source": [
        "year_correct = {'2013': 0, '2014': 0, '2015': 0, '2016': 0, '2017': 0, '2018': 0}\n",
        "year_total = {'2013': 0, '2014': 0, '2015': 0, '2016': 0, '2017': 0, '2018': 0}\n",
        "\n",
        "for i in range(len(year_predictions)):\n",
        "  \n",
        "  if(year_predictions[i] == test_sentiment[i]):\n",
        "    year_correct[str(test_data.index[i].year)] += 1\n",
        "  \n",
        "  year_total[str(test_data.index[i].year)] += 1\n",
        "\n",
        "year_accuracy = {}\n",
        "\n",
        "for year in year_correct:\n",
        "  year_accuracy[year] = year_correct[year] / year_total[year]\n",
        "\n",
        "plt.plot(list(year_accuracy.keys()), list(year_accuracy.values()))\n",
        "plt.show()"
      ],
      "execution_count": null,
      "outputs": [
        {
          "output_type": "display_data",
          "data": {
            "image/png": "[encoded data removed]",
            "text/plain": [
              "<Figure size 432x288 with 1 Axes>"
            ]
          },
          "metadata": {
            "needs_background": "light"
          }
        }
      ]
    },
    {
      "cell_type": "markdown",
      "metadata": {
        "id": "WuMgDRgGUOKs"
      },
      "source": [
        "Shape is similar to model without year, with the exception of 2018. Perhaps works better with more data, or is simply overfitting. \n"
      ]
    },
    {
      "cell_type": "code",
      "metadata": {
        "colab": {
          "base_uri": "https://localhost:8080/"
        },
        "id": "p-ao9yYTUHio",
        "outputId": "b9931e90-243f-49fc-ff19-0f627dbed509"
      },
      "source": [
        "train_predictions = year_model.predict(train_features)\n",
        "train_accuracy = accuracy_score(train_sentiment, train_predictions)\n",
        "print(train_accuracy)"
      ],
      "execution_count": null,
      "outputs": [
        {
          "output_type": "stream",
          "name": "stdout",
          "text": [
            "0.5637641591029876\n"
          ]
        }
      ]
    },
    {
      "cell_type": "markdown",
      "metadata": {
        "id": "x6gJU9LpU3CI"
      },
      "source": [
        "Even training accuracy is very low. Need to reevaluate approach or feed in more data. "
      ]
    },
    {
      "cell_type": "code",
      "metadata": {
        "id": "hfxZr0RjUrPl"
      },
      "source": [
        ""
      ],
      "execution_count": null,
      "outputs": []
    }
  ]
}