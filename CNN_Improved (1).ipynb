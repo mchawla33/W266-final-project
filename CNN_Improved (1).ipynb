{
  "nbformat": 4,
  "nbformat_minor": 0,
  "metadata": {
    "colab": {
      "name": "CNN_Improved.ipynb",
      "provenance": [],
      "collapsed_sections": []
    },
    "kernelspec": {
      "display_name": "Python 3",
      "name": "python3"
    },
    "language_info": {
      "name": "python"
    }
  },
  "cells": [
    {
      "cell_type": "code",
      "metadata": {
        "colab": {
          "base_uri": "https://localhost:8080/"
        },
        "id": "Pnp0ErblmrCm",
        "outputId": "764ee84c-7930-4013-8826-a5e11ac36805"
      },
      "source": [
        "import gzip\n",
        "import json\n",
        "import nltk\n",
        "import string\n",
        "import os\n",
        "import pandas as pd\n",
        "import numpy as np\n",
        "import tensorflow as tf\n",
        "import matplotlib.pyplot as plt\n",
        "from collections import Counter\n",
        "from google.colab import drive\n",
        "from keras.preprocessing.text import Tokenizer\n",
        "from keras.preprocessing.sequence import pad_sequences\n",
        "from sklearn.model_selection import train_test_split\n",
        "from keras.layers import Dense\n",
        "from keras.layers import Flatten\n",
        "from keras.layers import Embedding\n",
        "from keras.layers import Dropout\n",
        "from keras.layers.convolutional import Conv1D\n",
        "from keras.layers.convolutional import MaxPooling1D\n",
        "from keras.constraints import unit_norm\n",
        "from datetime import datetime\n",
        "drive.mount('/content/gdrive')\n",
        "nltk.download('stopwords')\n",
        "pd.set_option('display.max_colwidth', None)"
      ],
      "execution_count": null,
      "outputs": [
        {
          "output_type": "stream",
          "name": "stdout",
          "text": [
            "Mounted at /content/gdrive\n",
            "[nltk_data] Downloading package stopwords to /root/nltk_data...\n",
            "[nltk_data]   Unzipping corpora/stopwords.zip.\n"
          ]
        }
      ]
    },
    {
      "cell_type": "code",
      "metadata": {
        "id": "-TQWEou3_IYj"
      },
      "source": [
        "%load_ext tensorboard"
      ],
      "execution_count": null,
      "outputs": []
    },
    {
      "cell_type": "code",
      "metadata": {
        "colab": {
          "base_uri": "https://localhost:8080/"
        },
        "id": "dQwI3ThSmiIr",
        "outputId": "bb4899ae-4a5c-4c47-bf69-38b831954894"
      },
      "source": [
        "!wget http://deepyeti.ucsd.edu/jianmo/amazon/categoryFiles/All_Amazon_Review_5.json.gz"
      ],
      "execution_count": null,
      "outputs": [
        {
          "output_type": "stream",
          "name": "stdout",
          "text": [
            "--2021-12-01 07:35:24--  http://deepyeti.ucsd.edu/jianmo/amazon/categoryFiles/All_Amazon_Review_5.json.gz\n",
            "Resolving deepyeti.ucsd.edu (deepyeti.ucsd.edu)... 169.228.63.50\n",
            "Connecting to deepyeti.ucsd.edu (deepyeti.ucsd.edu)|169.228.63.50|:80... connected.\n",
            "HTTP request sent, awaiting response... 200 OK\n",
            "Length: 25270692239 (24G) [application/octet-stream]\n",
            "Saving to: ‘All_Amazon_Review_5.json.gz’\n",
            "\n",
            "All_Amazon_Review_5 100%[===================>]  23.54G  53.7MB/s    in 8m 17s  \n",
            "\n",
            "2021-12-01 07:43:41 (48.5 MB/s) - ‘All_Amazon_Review_5.json.gz’ saved [25270692239/25270692239]\n",
            "\n"
          ]
        }
      ]
    },
    {
      "cell_type": "code",
      "metadata": {
        "id": "Sxm_7Hp-mzHn"
      },
      "source": [
        "balanced_data = []\n",
        "with gzip.open('All_Amazon_Review_5.json.gz') as f:\n",
        "    pos_limit = 500000\n",
        "    neg_limit = 500000\n",
        "    for l in f:\n",
        "        #Using first 1M records. All records used up all the RAM. \n",
        "        if pos_limit == 0 and neg_limit == 0:\n",
        "          break\n",
        "        json_data = json.loads(l.strip())\n",
        "        overall = json_data['overall']\n",
        "        if 'reviewText' not in json_data:\n",
        "          continue\n",
        "        if overall < 4.0 and neg_limit > 0: \n",
        "          balanced_data.append(json_data)\n",
        "          neg_limit -= 1\n",
        "        elif overall >= 4.0 and pos_limit > 0:\n",
        "          balanced_data.append(json_data)\n",
        "          pos_limit -= 1"
      ],
      "execution_count": null,
      "outputs": []
    },
    {
      "cell_type": "code",
      "metadata": {
        "id": "tVjya-p4m2j6",
        "colab": {
          "base_uri": "https://localhost:8080/"
        },
        "outputId": "3b9a0dea-9978-4f86-b38f-1a73eb1aecd1"
      },
      "source": [
        "balanced_df = pd.DataFrame.from_dict(balanced_data)\n",
        "b_sentiment_df = pd.concat([balanced_df['unixReviewTime'], balanced_df['reviewText'], balanced_df['overall']], axis=1)\n",
        "b_sentiment_df['sentiment'] = np.where(b_sentiment_df['overall'] < 4.0, 0, 1)\n",
        "b_sentiment_df['datetimeReviewTime'] = pd.to_datetime(b_sentiment_df['unixReviewTime'], unit='s')\n",
        "b_sentiment_df['reviewText'] = np.where(pd.isnull(b_sentiment_df['reviewText']), b_sentiment_df['reviewText'], b_sentiment_df['reviewText'].astype(str))\n",
        "print(len(b_sentiment_df))"
      ],
      "execution_count": null,
      "outputs": [
        {
          "output_type": "stream",
          "name": "stdout",
          "text": [
            "1000000\n"
          ]
        }
      ]
    },
    {
      "cell_type": "code",
      "metadata": {
        "id": "yayxW65LnCoE"
      },
      "source": [
        "\n",
        "df_13 = b_sentiment_df[(b_sentiment_df['datetimeReviewTime'] >= '2013-01-01') & (b_sentiment_df['datetimeReviewTime'] < '2014-01-01')]\n",
        "df_14 = b_sentiment_df[(b_sentiment_df['datetimeReviewTime'] >= '2014-01-01') & (b_sentiment_df['datetimeReviewTime'] < '2015-01-01')]\n",
        "df_15 = b_sentiment_df[(b_sentiment_df['datetimeReviewTime'] >= '2015-01-01') & (b_sentiment_df['datetimeReviewTime'] < '2016-01-01')]\n",
        "df_16 = b_sentiment_df[(b_sentiment_df['datetimeReviewTime'] >= '2016-01-01') & (b_sentiment_df['datetimeReviewTime'] < '2017-01-01')]\n",
        "df_17 = b_sentiment_df[(b_sentiment_df['datetimeReviewTime'] >= '2017-01-01') & (b_sentiment_df['datetimeReviewTime'] < '2018-01-01')]\n",
        "df_18 = b_sentiment_df[(b_sentiment_df['datetimeReviewTime'] >= '2018-01-01') & (b_sentiment_df['datetimeReviewTime'] < '2019-01-01')]\n",
        "\n",
        "\n",
        "\n",
        "sample_size = 10000"
      ],
      "execution_count": null,
      "outputs": []
    },
    {
      "cell_type": "code",
      "metadata": {
        "id": "cUFQ41wPnGvh",
        "colab": {
          "base_uri": "https://localhost:8080/"
        },
        "outputId": "4fc53b43-0469-46a4-eae3-2a2a2a4e96f8"
      },
      "source": [
        "df_total = pd.concat([df_13.sample(sample_size, random_state=123), df_14.sample(sample_size, random_state=123), df_15.sample(sample_size, random_state=123), df_16.sample(sample_size, random_state=123), df_17.sample(sample_size, random_state=123), df_18.sample(sample_size, random_state=123)]).dropna()\n",
        "print(len(df_total))\n",
        "train_data, test_data, train_sentiment, test_sentiment = train_test_split(df_total.drop('sentiment', axis=1), df_total['sentiment'], test_size=0.2, random_state=12345)"
      ],
      "execution_count": null,
      "outputs": [
        {
          "output_type": "stream",
          "name": "stdout",
          "text": [
            "60000\n"
          ]
        }
      ]
    },
    {
      "cell_type": "code",
      "metadata": {
        "id": "C49EacrQnRWF",
        "colab": {
          "base_uri": "https://localhost:8080/"
        },
        "outputId": "bf78f31c-c502-4a54-eb56-6026ef9396a7"
      },
      "source": [
        "# print(np.mean(df_13['sentiment']))\n",
        "# print(np.mean(df_14['sentiment']))\n",
        "# print(np.mean(df_15['sentiment']))\n",
        "# print(np.mean(df_16['sentiment']))\n",
        "# print(np.mean(df_17['sentiment']))\n",
        "# print(np.mean(df_18['sentiment']))\n",
        "\n",
        "print(np.mean(df_total['sentiment']))"
      ],
      "execution_count": null,
      "outputs": [
        {
          "output_type": "stream",
          "name": "stdout",
          "text": [
            "0.4989\n"
          ]
        }
      ]
    },
    {
      "cell_type": "markdown",
      "metadata": {
        "id": "sD2d0HIprTU_"
      },
      "source": [
        "Sentiment looks roughly balanced in each year. "
      ]
    },
    {
      "cell_type": "code",
      "metadata": {
        "colab": {
          "base_uri": "https://localhost:8080/"
        },
        "id": "-2yLpJLrqs1I",
        "outputId": "5324e6af-5b75-471a-e649-760956787b27"
      },
      "source": [
        "all_train_text = train_data['reviewText']\n",
        "\n",
        "vocab = Counter()\n",
        "stop_words = set(nltk.corpus.stopwords.words('english'))\n",
        "clean_text = []\n",
        "for x in all_train_text:\n",
        "  #unigrams\n",
        "  x = x.lower()\n",
        "  tokens = x.split()\n",
        "\n",
        "  #remove punctuation\n",
        "  table = str.maketrans('', '', string.punctuation)\n",
        "  tokens = [w.translate(table) for w in tokens]\n",
        "\n",
        "  #remove stopwords\n",
        "  tokens = [w for w in tokens if not w in stop_words]\n",
        "  vocab.update(tokens)\n",
        "  clean_text.append(tokens)\n",
        "  \n",
        "print(len(vocab))\n",
        "print(vocab.most_common(10))"
      ],
      "execution_count": null,
      "outputs": [
        {
          "output_type": "stream",
          "name": "stdout",
          "text": [
            "45229\n",
            "[('one', 10622), ('like', 10081), ('great', 10058), ('use', 9371), ('', 9220), ('good', 8358), ('would', 8312), ('product', 7446), ('get', 7348), ('kindle', 6670)]\n"
          ]
        }
      ]
    },
    {
      "cell_type": "code",
      "metadata": {
        "colab": {
          "base_uri": "https://localhost:8080/"
        },
        "id": "AaUJrs_-rawe",
        "outputId": "eda1e6de-937c-4693-ff9c-31f3a06c2e06"
      },
      "source": [
        "min_occurance=2\n",
        "tokens = [k for k,c in vocab.items() if c >= min_occurance]\n",
        "print(len(tokens))\n",
        "print(tokens[:10])\n",
        "vocab = set(tokens)"
      ],
      "execution_count": null,
      "outputs": [
        {
          "output_type": "stream",
          "name": "stdout",
          "text": [
            "21412\n",
            "['tooooo', 'leathery', 'could', 'barely', 'chew', 'amazing', 'love', 'like', 'many', 'probably']\n"
          ]
        }
      ]
    },
    {
      "cell_type": "code",
      "metadata": {
        "id": "fTUiLEq8r_kR"
      },
      "source": [
        "filtered_text = []\n",
        "for text in clean_text:\n",
        "  text = [w for w in text if w in vocab]\n",
        "  filtered_text.append(text)"
      ],
      "execution_count": null,
      "outputs": []
    },
    {
      "cell_type": "code",
      "metadata": {
        "id": "ZUuKqzFIsI2y"
      },
      "source": [
        "tokenizer = Tokenizer()\n",
        "tokenizer.fit_on_texts(filtered_text)\n",
        "encoded_text = tokenizer.texts_to_sequences(filtered_text)"
      ],
      "execution_count": null,
      "outputs": []
    },
    {
      "cell_type": "code",
      "metadata": {
        "id": "R8Hv91LltZK-"
      },
      "source": [
        "# # print(filtered_text[:3])\n",
        "# # print(encoded_text[:3])\n",
        "\n",
        "# for i in range(len(filtered_text)): \n",
        "#   text = filtered_text[i]\n",
        "#   for j in range(len(text)):\n",
        "#     word = text[j]\n",
        "#     if word == 'works':\n",
        "#       print(\"WORKS\")\n",
        "#       print(encoded_text[i][j])\n",
        "#     # if word == 'nice':\n",
        "#     #   print(\"NICE\")\n",
        "#     #   print(encoded_text[i][j]) \n"
      ],
      "execution_count": null,
      "outputs": []
    },
    {
      "cell_type": "code",
      "metadata": {
        "id": "c22R-SjGWRrg"
      },
      "source": [
        "max_len = 80"
      ],
      "execution_count": null,
      "outputs": []
    },
    {
      "cell_type": "code",
      "metadata": {
        "colab": {
          "base_uri": "https://localhost:8080/"
        },
        "id": "rnYyi3i0tqB6",
        "outputId": "1d8d7ec9-58c4-4cff-be80-67e6e7423072"
      },
      "source": [
        "train_text = pad_sequences(encoded_text, maxlen=max_len, padding='post')\n",
        "vocab_size = len(tokenizer.word_index) + 1\n",
        "print(vocab_size)"
      ],
      "execution_count": null,
      "outputs": [
        {
          "output_type": "stream",
          "name": "stdout",
          "text": [
            "21413\n"
          ]
        }
      ]
    },
    {
      "cell_type": "code",
      "metadata": {
        "id": "VXpy_FMXv0mD"
      },
      "source": [
        "all_test_text = test_data['reviewText']\n",
        "filtered_text_test = []\n",
        "for x in all_test_text:\n",
        "  #unigrams\n",
        "  x = x.lower()\n",
        "  tokens = x.split()\n",
        "\n",
        "  #remove punctuation\n",
        "  table = str.maketrans('', '', string.punctuation)\n",
        "  tokens = [w.translate(table) for w in tokens]\n",
        "\n",
        "  #remove stopwords\n",
        "  tokens = [w for w in tokens if not w in stop_words]\n",
        "\n",
        "  #filter\n",
        "  filtered_tokens = [w for w in tokens if w in vocab]\n",
        "  \n",
        "  filtered_text_test.append(filtered_tokens)\n",
        "\n",
        "\n",
        "encoded_text_test = tokenizer.texts_to_sequences(filtered_text_test)\n",
        "test_text = pad_sequences(encoded_text_test, maxlen=max_len, padding='post')"
      ],
      "execution_count": null,
      "outputs": []
    },
    {
      "cell_type": "code",
      "metadata": {
        "id": "VBoO_LA05s2C"
      },
      "source": [
        "# input = tf.keras.layers.Input(shape=(max_len,))\n",
        "# embedding = Embedding(vocab_size, 100, input_length=max_len, name='embedding_layer')(input)\n",
        "# conv_size_8 = Conv1D(filters=32, kernel_size=8, activation='relu', name='convolutional_layer_8', padding='same')(embedding)\n",
        "# conv_size_4 = Conv1D(filters=32, kernel_size=8, activation='relu', name='convolutional_layer_4', padding='same')(embedding)\n",
        "# conv_size_2 = Conv1D(filters=32, kernel_size=8, activation='relu', name='convolutional_layer_2', padding='same')(embedding)\n",
        "# pooling_8 = MaxPooling1D(pool_size=max_len, name='pooling_8')(conv_size_8)\n",
        "# pooling_4 = MaxPooling1D(pool_size=max_len, name='pooling_4')(conv_size_4)\n",
        "# pooling_2 = MaxPooling1D(pool_size=max_len, name='pooling_2')(conv_size_2)\n",
        "# concat = tf.keras.layers.concatenate([pooling_8, pooling_4, pooling_2], axis=2, name='concatenation')\n",
        "# flatten = Flatten(name='flattening')(concat)\n",
        "# dense = Dense(10, activation='relu', name='hidden_layer')(flatten)\n",
        "# output = Dense(1, activation='sigmoid', name='output_layer')(dense)\n",
        "\n",
        "# model_a = tf.keras.Model(inputs=input, outputs=output, name='Baseline_Model')\n",
        "# print(model_a.summary())"
      ],
      "execution_count": null,
      "outputs": []
    },
    {
      "cell_type": "code",
      "metadata": {
        "id": "-I84NL6v_Sxg"
      },
      "source": [
        "logdir=\"/content/gdrive/My Drive/large_CNN_imp_a/logs/\" + datetime.now().strftime(\"%Y%m%d-%H%M%S\")\n",
        "tensorboard_callback = tf.keras.callbacks.TensorBoard(log_dir=logdir)"
      ],
      "execution_count": null,
      "outputs": []
    },
    {
      "cell_type": "code",
      "metadata": {
        "id": "BUIl3hl-6Cb-"
      },
      "source": [
        "# model_a.compile(loss='binary_crossentropy', optimizer='adam', metrics=['accuracy'])\n",
        "# model_a.fit(train_text, train_sentiment, epochs=10, callbacks=[tensorboard_callback])\n",
        "# model_a.save(\"/content/gdrive/My Drive/large_CNN_imp_a/model\")"
      ],
      "execution_count": null,
      "outputs": []
    },
    {
      "cell_type": "code",
      "metadata": {
        "id": "JfpnycR8AkOI"
      },
      "source": [
        "# %tensorboard --logdir \"/content/gdrive/My Drive/large_CNN_imp_a/logs/\""
      ],
      "execution_count": null,
      "outputs": []
    },
    {
      "cell_type": "code",
      "metadata": {
        "colab": {
          "base_uri": "https://localhost:8080/"
        },
        "id": "BMVqtSLK6VCR",
        "outputId": "a4d52337-3913-44ab-dd41-5e85ccf68316"
      },
      "source": [
        "model_loaded_a = tf.keras.models.load_model('/content/gdrive/My Drive/large_CNN_imp_a/model')\n",
        "print(model_loaded_a.summary())\n",
        "loss, accuracy = model_loaded_a.evaluate(test_text, test_sentiment)\n",
        "print(\"Accuracy: \" + str(accuracy*100))"
      ],
      "execution_count": null,
      "outputs": [
        {
          "output_type": "stream",
          "name": "stdout",
          "text": [
            "Model: \"Baseline_Model\"\n",
            "__________________________________________________________________________________________________\n",
            " Layer (type)                   Output Shape         Param #     Connected to                     \n",
            "==================================================================================================\n",
            " input_1 (InputLayer)           [(None, 80)]         0           []                               \n",
            "                                                                                                  \n",
            " embedding_layer (Embedding)    (None, 80, 100)      2141300     ['input_1[0][0]']                \n",
            "                                                                                                  \n",
            " convolutional_layer_8 (Conv1D)  (None, 80, 32)      25632       ['embedding_layer[0][0]']        \n",
            "                                                                                                  \n",
            " convolutional_layer_4 (Conv1D)  (None, 80, 32)      25632       ['embedding_layer[0][0]']        \n",
            "                                                                                                  \n",
            " convolutional_layer_2 (Conv1D)  (None, 80, 32)      25632       ['embedding_layer[0][0]']        \n",
            "                                                                                                  \n",
            " pooling_8 (MaxPooling1D)       (None, 1, 32)        0           ['convolutional_layer_8[0][0]']  \n",
            "                                                                                                  \n",
            " pooling_4 (MaxPooling1D)       (None, 1, 32)        0           ['convolutional_layer_4[0][0]']  \n",
            "                                                                                                  \n",
            " pooling_2 (MaxPooling1D)       (None, 1, 32)        0           ['convolutional_layer_2[0][0]']  \n",
            "                                                                                                  \n",
            " concatenation (Concatenate)    (None, 1, 96)        0           ['pooling_8[0][0]',              \n",
            "                                                                  'pooling_4[0][0]',              \n",
            "                                                                  'pooling_2[0][0]']              \n",
            "                                                                                                  \n",
            " flattening (Flatten)           (None, 96)           0           ['concatenation[0][0]']          \n",
            "                                                                                                  \n",
            " hidden_layer (Dense)           (None, 10)           970         ['flattening[0][0]']             \n",
            "                                                                                                  \n",
            " output_layer (Dense)           (None, 1)            11          ['hidden_layer[0][0]']           \n",
            "                                                                                                  \n",
            "==================================================================================================\n",
            "Total params: 2,219,177\n",
            "Trainable params: 2,219,177\n",
            "Non-trainable params: 0\n",
            "__________________________________________________________________________________________________\n",
            "None\n",
            "375/375 [==============================] - 5s 13ms/step - loss: 1.1166 - accuracy: 0.8366\n",
            "Accuracy: 83.65833163261414\n"
          ]
        }
      ]
    },
    {
      "cell_type": "markdown",
      "metadata": {
        "id": "RRS31tx205zw"
      },
      "source": [
        "### Add year to data"
      ]
    },
    {
      "cell_type": "code",
      "metadata": {
        "id": "3CsyWS-K0y2t"
      },
      "source": [
        "for i, x in train_data.iterrows(): \n",
        "  training_string = str(x['datetimeReviewTime'].year) + ' ' +  x['reviewText']\n",
        "  train_data.loc[i, 'text_with_year'] = training_string \n",
        "\n",
        "for i, x in test_data.iterrows(): \n",
        "  training_string = str(x['datetimeReviewTime'].year) + ' ' +  x['reviewText']\n",
        "  test_data.loc[i, 'text_with_year'] = training_string \n"
      ],
      "execution_count": null,
      "outputs": []
    },
    {
      "cell_type": "code",
      "metadata": {
        "id": "pgZhdShg4T85",
        "colab": {
          "base_uri": "https://localhost:8080/"
        },
        "outputId": "e1498f97-b4eb-4218-bcd3-82e14ad7badb"
      },
      "source": [
        "print(train_data.head()[['reviewText', 'text_with_year']])\n",
        "print(test_data.head()[['reviewText', 'text_with_year']])"
      ],
      "execution_count": null,
      "outputs": [
        {
          "output_type": "stream",
          "name": "stdout",
          "text": [
            "                                                                                                                                                                                                                                                                                                                                                                                                                                                                                                                                                                                                                                                                                                                                                                                                          reviewText                                                                                                                                                                                                                                                                                                                                                                                                                                                                                                                                                                                                                                                                                                                                                                                                     text_with_year\n",
            "926385                                                                                                                                                                                                                                                                                                                                                                                                                                                                                                                                                                                                                                                                                                                                                                         Tooooo leathery! Could barely chew!!!                                                                                                                                                                                                                                                                                                                                                                                                                                                                                                                                                                                                                                                                                                                                                                         2018 Tooooo leathery! Could barely chew!!!\n",
            "331118                                                                                                                                                                                                                                                                                                                                                                                                                                                                                                                                                                                                                                                                                                                                                                                         Amazing!  We love it!                                                                                                                                                                                                                                                                                                                                                                                                                                                                                                                                                                                                                                                                                                                                                                                         2015 Amazing!  We love it!\n",
            "729949                                                                                                                                                                                                                                                                          I was like many of you probably looking through the reviews to see if this was a good cheaper option. I saw that the majority of people said that the cable easily snapped and I was so excited to get a pedal that I ignored their warning and bought it anyway. I figured that I if I didn't play hard, I would't break it....wrong.... the wire came completely unspooled and that was it. there is no fixing this thing. luckily mine was still under warranty and I'm sending it back. so don't waste your money on this thing.                                                                                                                                                                                                                                                                          2014 I was like many of you probably looking through the reviews to see if this was a good cheaper option. I saw that the majority of people said that the cable easily snapped and I was so excited to get a pedal that I ignored their warning and bought it anyway. I figured that I if I didn't play hard, I would't break it....wrong.... the wire came completely unspooled and that was it. there is no fixing this thing. luckily mine was still under warranty and I'm sending it back. so don't waste your money on this thing.\n",
            "273234  My husband gifted me my kindle as a Christmas gift, I was unsure being devoted to paper......What can I say I very quickly became devoted to my kindle, due to having all my books with me at all times {I do re-read when the writing is worth it} and the lightness compared to some of the heavier tomes I sometime read.\\nPerfect....until I dropped it and it refused to switch on....I contacted amazon.com to see if they could help me and Oh My the service I received was fantastic. Within 3 days they sent me a this new kindle that I have been enjoying ever since. Nowadays customer service is generally grudging and mandatory at best so to get pleasant, friendly, patient Human advice and assistance is a refreshing change and to be aspired to by other services. Many thanks Amazon.  2013 My husband gifted me my kindle as a Christmas gift, I was unsure being devoted to paper......What can I say I very quickly became devoted to my kindle, due to having all my books with me at all times {I do re-read when the writing is worth it} and the lightness compared to some of the heavier tomes I sometime read.\\nPerfect....until I dropped it and it refused to switch on....I contacted amazon.com to see if they could help me and Oh My the service I received was fantastic. Within 3 days they sent me a this new kindle that I have been enjoying ever since. Nowadays customer service is generally grudging and mandatory at best so to get pleasant, friendly, patient Human advice and assistance is a refreshing change and to be aspired to by other services. Many thanks Amazon.\n",
            "630708                                                                                                                                                                                                                                                                                                                                                                                                                                                                                                                                                                                                                                                                                                    Didn't work for me, wasn't what I thought it was used for. So I ordered the right adapter for my purposes.                                                                                                                                                                                                                                                                                                                                                                                                                                                                                                                                                                                                                                                                                                    2014 Didn't work for me, wasn't what I thought it was used for. So I ordered the right adapter for my purposes.\n",
            "                                                                                                                                                                                                                                                                                                         reviewText                                                                                                                                                                                                                                                                                                    text_with_year\n",
            "39283                                                                                                                    I must be doing something wrong with this aweful pink wax!  It doesn't harden at all to stick hair to strip.  I pull the strip off and am left with a gunky mess on my face!  Please HELP!                                                                                                                   2013 I must be doing something wrong with this aweful pink wax!  It doesn't harden at all to stick hair to strip.  I pull the strip off and am left with a gunky mess on my face!  Please HELP!\n",
            "418936                                                                                                                               Fantastic connectivity and a wide breadth of content. UI is a little stilted but responsive.  Voice activation is responsive, as well.  It is very easy to set up and operate.                                                                                                                               2017 Fantastic connectivity and a wide breadth of content. UI is a little stilted but responsive.  Voice activation is responsive, as well.  It is very easy to set up and operate.\n",
            "693153                                                                                                                                                                                                                          Bought 2. One is fine, the other has a funky xlr socket. Otherwise, they work fine.                                                                                                                                                                                                                          2015 Bought 2. One is fine, the other has a funky xlr socket. Otherwise, they work fine.\n",
            "35526                                                                                                                   Have been using a different cream and thought I would give this a chance because of price per ounce.  Seems a little heavy and not as rich as I had hoped.  Will go back to my other cream.                                                                                                                  2013 Have been using a different cream and thought I would give this a chance because of price per ounce.  Seems a little heavy and not as rich as I had hoped.  Will go back to my other cream.\n",
            "437089  So glad I decided to finally order one of these. We have smart TVs but they don't let you do anywhere near what the Firestick does. We haven't had satellite in 2 years so everyone in the house is excited to be able to watch our shows and movies again without having to wait for Netflix to post them.  2018 So glad I decided to finally order one of these. We have smart TVs but they don't let you do anywhere near what the Firestick does. We haven't had satellite in 2 years so everyone in the house is excited to be able to watch our shows and movies again without having to wait for Netflix to post them.\n"
          ]
        }
      ]
    },
    {
      "cell_type": "code",
      "metadata": {
        "colab": {
          "base_uri": "https://localhost:8080/"
        },
        "id": "44hYkrjA1A9A",
        "outputId": "7ab9ad5b-a86a-42d5-9ea5-b066690ee022"
      },
      "source": [
        "all_train_text_year = train_data['text_with_year']\n",
        "\n",
        "vocab_year = Counter()\n",
        "stop_words = set(nltk.corpus.stopwords.words('english'))\n",
        "clean_text_year = []\n",
        "for x in all_train_text_year:\n",
        "  #unigrams\n",
        "  x = x.lower()\n",
        "  tokens = x.split()\n",
        "\n",
        "  #remove punctuation\n",
        "  table = str.maketrans('', '', string.punctuation)\n",
        "  tokens = [w.translate(table) for w in tokens]\n",
        "\n",
        "  #remove stopwords\n",
        "  tokens = [w for w in tokens if not w in stop_words]\n",
        "  vocab_year.update(tokens)\n",
        "  clean_text_year.append(tokens)\n",
        "  \n",
        "print(len(vocab_year))\n",
        "print(vocab_year.most_common(10))\n",
        "\n",
        "min_occurance=2\n",
        "tokens_year = [k for k,c in vocab_year.items() if c >= min_occurance]\n",
        "print(len(tokens_year))\n",
        "print(tokens_year[:10])\n",
        "vocab_year = set(tokens_year)\n",
        "\n",
        "\n",
        "\n",
        "filtered_text_year = []\n",
        "for text in clean_text_year:\n",
        "  text = [w for w in text if w in vocab_year]\n",
        "  filtered_text_year.append(text)\n",
        "\n",
        "\n",
        "\n",
        "tokenizer_year = Tokenizer()\n",
        "tokenizer_year.fit_on_texts(filtered_text_year)\n",
        "encoded_text_year = tokenizer_year.texts_to_sequences(filtered_text_year)\n",
        "\n",
        "train_text_year = pad_sequences(encoded_text_year, maxlen=max_len, padding='post')\n",
        "\n",
        "vocab_size_year = len(tokenizer_year.word_index) + 1\n",
        "print(vocab_size_year)"
      ],
      "execution_count": null,
      "outputs": [
        {
          "output_type": "stream",
          "name": "stdout",
          "text": [
            "45229\n",
            "[('one', 10622), ('like', 10081), ('great', 10058), ('use', 9371), ('', 9220), ('good', 8358), ('would', 8312), ('2014', 8157), ('2017', 8104), ('2015', 8057)]\n",
            "21412\n",
            "['2018', 'tooooo', 'leathery', 'could', 'barely', 'chew', '2015', 'amazing', 'love', '2014']\n",
            "21413\n"
          ]
        }
      ]
    },
    {
      "cell_type": "code",
      "metadata": {
        "id": "yP85v0YS5mcp"
      },
      "source": [
        "all_test_text_year = test_data['text_with_year']\n",
        "filtered_text_test_year = []\n",
        "for x in all_test_text_year:\n",
        "  #unigrams\n",
        "  x = x.lower()\n",
        "  tokens = x.split()\n",
        "\n",
        "  #remove punctuation\n",
        "  table = str.maketrans('', '', string.punctuation)\n",
        "  tokens = [w.translate(table) for w in tokens]\n",
        "\n",
        "  #remove stopwords\n",
        "  tokens = [w for w in tokens if not w in stop_words]\n",
        "\n",
        "  #filter\n",
        "  filtered_tokens = [w for w in tokens if w in vocab]\n",
        "  \n",
        "  filtered_text_test_year.append(filtered_tokens)\n",
        "\n",
        "\n",
        "encoded_text_test_year = tokenizer_year.texts_to_sequences(filtered_text_test_year)\n",
        "test_text_year = pad_sequences(encoded_text_test_year, maxlen=max_len, padding='post')"
      ],
      "execution_count": null,
      "outputs": []
    },
    {
      "cell_type": "code",
      "metadata": {
        "id": "eBW35ziEhcES",
        "colab": {
          "base_uri": "https://localhost:8080/"
        },
        "outputId": "6918e01e-601b-451b-828a-ed2edfc19cd3"
      },
      "source": [
        "# input = tf.keras.layers.Input(shape=(max_len,))\n",
        "# embedding = Embedding(vocab_size_year, 100, input_length=max_len, name='embedding_layer')(input)\n",
        "# conv_size_8 = Conv1D(filters=32, kernel_size=8, activation='relu', name='convolutional_layer_8', padding='same')(embedding)\n",
        "# conv_size_4 = Conv1D(filters=32, kernel_size=8, activation='relu', name='convolutional_layer_4', padding='same')(embedding)\n",
        "# conv_size_2 = Conv1D(filters=32, kernel_size=8, activation='relu', name='convolutional_layer_2', padding='same')(embedding)\n",
        "# pooling_8 = MaxPooling1D(pool_size=max_len, name='pooling_8')(conv_size_8)\n",
        "# pooling_4 = MaxPooling1D(pool_size=max_len, name='pooling_4')(conv_size_4)\n",
        "# pooling_2 = MaxPooling1D(pool_size=max_len, name='pooling_2')(conv_size_2)\n",
        "# concat = tf.keras.layers.concatenate([pooling_8, pooling_4, pooling_2], axis=2, name='concatenation')\n",
        "# flatten = Flatten(name='flattening')(concat)\n",
        "# dense = Dense(10, activation='relu', name='hidden_layer')(flatten)\n",
        "# output = Dense(1, activation='sigmoid', name='output_layer')(dense)\n",
        "\n",
        "# model_year_a = tf.keras.Model(inputs=input, outputs=output)\n",
        "# print(model_year_a.summary())"
      ],
      "execution_count": null,
      "outputs": [
        {
          "output_type": "stream",
          "name": "stdout",
          "text": [
            "Model: \"model\"\n",
            "__________________________________________________________________________________________________\n",
            " Layer (type)                   Output Shape         Param #     Connected to                     \n",
            "==================================================================================================\n",
            " input_2 (InputLayer)           [(None, 80)]         0           []                               \n",
            "                                                                                                  \n",
            " embedding_layer (Embedding)    (None, 80, 100)      2141300     ['input_2[0][0]']                \n",
            "                                                                                                  \n",
            " convolutional_layer_8 (Conv1D)  (None, 80, 32)      25632       ['embedding_layer[0][0]']        \n",
            "                                                                                                  \n",
            " convolutional_layer_4 (Conv1D)  (None, 80, 32)      25632       ['embedding_layer[0][0]']        \n",
            "                                                                                                  \n",
            " convolutional_layer_2 (Conv1D)  (None, 80, 32)      25632       ['embedding_layer[0][0]']        \n",
            "                                                                                                  \n",
            " pooling_8 (MaxPooling1D)       (None, 1, 32)        0           ['convolutional_layer_8[0][0]']  \n",
            "                                                                                                  \n",
            " pooling_4 (MaxPooling1D)       (None, 1, 32)        0           ['convolutional_layer_4[0][0]']  \n",
            "                                                                                                  \n",
            " pooling_2 (MaxPooling1D)       (None, 1, 32)        0           ['convolutional_layer_2[0][0]']  \n",
            "                                                                                                  \n",
            " concatenation (Concatenate)    (None, 1, 96)        0           ['pooling_8[0][0]',              \n",
            "                                                                  'pooling_4[0][0]',              \n",
            "                                                                  'pooling_2[0][0]']              \n",
            "                                                                                                  \n",
            " flattening (Flatten)           (None, 96)           0           ['concatenation[0][0]']          \n",
            "                                                                                                  \n",
            " hidden_layer (Dense)           (None, 10)           970         ['flattening[0][0]']             \n",
            "                                                                                                  \n",
            " output_layer (Dense)           (None, 1)            11          ['hidden_layer[0][0]']           \n",
            "                                                                                                  \n",
            "==================================================================================================\n",
            "Total params: 2,219,177\n",
            "Trainable params: 2,219,177\n",
            "Non-trainable params: 0\n",
            "__________________________________________________________________________________________________\n",
            "None\n"
          ]
        }
      ]
    },
    {
      "cell_type": "code",
      "metadata": {
        "id": "jZLcL10fDHFO"
      },
      "source": [
        "logdir=\"/content/gdrive/My Drive/large_CNN_imp_year_a/logs/\" + datetime.now().strftime(\"%Y%m%d-%H%M%S\")\n",
        "tensorboard_callback = tf.keras.callbacks.TensorBoard(log_dir=logdir)"
      ],
      "execution_count": null,
      "outputs": []
    },
    {
      "cell_type": "code",
      "metadata": {
        "id": "NFcasKO9tw3M",
        "colab": {
          "base_uri": "https://localhost:8080/"
        },
        "outputId": "fc003928-1529-47c1-c629-ba7e4e618cf8"
      },
      "source": [
        "# model_year_a.compile(loss='binary_crossentropy', optimizer='adam', metrics=['accuracy'])\n",
        "# model_year_a.fit(train_text_year, train_sentiment, epochs=10, callbacks=[tensorboard_callback])\n",
        "# model_year_a.save(\"/content/gdrive/My Drive/large_CNN_imp_year_a/model\")"
      ],
      "execution_count": null,
      "outputs": [
        {
          "output_type": "stream",
          "name": "stdout",
          "text": [
            "Epoch 1/10\n",
            "1500/1500 [==============================] - 118s 78ms/step - loss: 0.3569 - accuracy: 0.8415\n",
            "Epoch 2/10\n",
            "1500/1500 [==============================] - 119s 79ms/step - loss: 0.2216 - accuracy: 0.9131\n",
            "Epoch 3/10\n",
            "1500/1500 [==============================] - 117s 78ms/step - loss: 0.1125 - accuracy: 0.9606\n",
            "Epoch 4/10\n",
            "1500/1500 [==============================] - 119s 79ms/step - loss: 0.0596 - accuracy: 0.9791\n",
            "Epoch 5/10\n",
            "1500/1500 [==============================] - 121s 80ms/step - loss: 0.0415 - accuracy: 0.9847\n",
            "Epoch 6/10\n",
            "1500/1500 [==============================] - 120s 80ms/step - loss: 0.0361 - accuracy: 0.9863\n",
            "Epoch 7/10\n",
            "1500/1500 [==============================] - 118s 79ms/step - loss: 0.0340 - accuracy: 0.9869\n",
            "Epoch 8/10\n",
            "1500/1500 [==============================] - 121s 81ms/step - loss: 0.0324 - accuracy: 0.9875\n",
            "Epoch 9/10\n",
            "1500/1500 [==============================] - 122s 82ms/step - loss: 0.0305 - accuracy: 0.9879\n",
            "Epoch 10/10\n",
            "1500/1500 [==============================] - 123s 82ms/step - loss: 0.0269 - accuracy: 0.9893\n",
            "INFO:tensorflow:Assets written to: /content/gdrive/My Drive/large_CNN_imp_year_a/model/assets\n"
          ]
        }
      ]
    },
    {
      "cell_type": "code",
      "metadata": {
        "id": "JNvkGggWDREl"
      },
      "source": [
        "# %tensorboard --logdir \"/content/gdrive/My Drive/large_CNN_imp_year_a/logs/\""
      ],
      "execution_count": null,
      "outputs": []
    },
    {
      "cell_type": "code",
      "metadata": {
        "colab": {
          "base_uri": "https://localhost:8080/"
        },
        "id": "a3Nk2J1rtzZ_",
        "outputId": "16cff5de-d23a-48cd-9308-d5f3ac0e71f9"
      },
      "source": [
        "model_loaded_year_a = tf.keras.models.load_model('/content/gdrive/My Drive/large_CNN_imp_year_a/model')\n",
        "print(model_loaded_year_a.summary())\n",
        "loss, accuracy = model_loaded_year_a.evaluate(test_text_year, test_sentiment)\n",
        "print(\"Accuracy: \" + str(accuracy*100))"
      ],
      "execution_count": null,
      "outputs": [
        {
          "output_type": "stream",
          "name": "stdout",
          "text": [
            "Model: \"model\"\n",
            "__________________________________________________________________________________________________\n",
            " Layer (type)                   Output Shape         Param #     Connected to                     \n",
            "==================================================================================================\n",
            " input_2 (InputLayer)           [(None, 80)]         0           []                               \n",
            "                                                                                                  \n",
            " embedding_layer (Embedding)    (None, 80, 100)      2141300     ['input_2[0][0]']                \n",
            "                                                                                                  \n",
            " convolutional_layer_8 (Conv1D)  (None, 80, 32)      25632       ['embedding_layer[0][0]']        \n",
            "                                                                                                  \n",
            " convolutional_layer_4 (Conv1D)  (None, 80, 32)      25632       ['embedding_layer[0][0]']        \n",
            "                                                                                                  \n",
            " convolutional_layer_2 (Conv1D)  (None, 80, 32)      25632       ['embedding_layer[0][0]']        \n",
            "                                                                                                  \n",
            " pooling_8 (MaxPooling1D)       (None, 1, 32)        0           ['convolutional_layer_8[0][0]']  \n",
            "                                                                                                  \n",
            " pooling_4 (MaxPooling1D)       (None, 1, 32)        0           ['convolutional_layer_4[0][0]']  \n",
            "                                                                                                  \n",
            " pooling_2 (MaxPooling1D)       (None, 1, 32)        0           ['convolutional_layer_2[0][0]']  \n",
            "                                                                                                  \n",
            " concatenation (Concatenate)    (None, 1, 96)        0           ['pooling_8[0][0]',              \n",
            "                                                                  'pooling_4[0][0]',              \n",
            "                                                                  'pooling_2[0][0]']              \n",
            "                                                                                                  \n",
            " flattening (Flatten)           (None, 96)           0           ['concatenation[0][0]']          \n",
            "                                                                                                  \n",
            " hidden_layer (Dense)           (None, 10)           970         ['flattening[0][0]']             \n",
            "                                                                                                  \n",
            " output_layer (Dense)           (None, 1)            11          ['hidden_layer[0][0]']           \n",
            "                                                                                                  \n",
            "==================================================================================================\n",
            "Total params: 2,219,177\n",
            "Trainable params: 2,219,177\n",
            "Non-trainable params: 0\n",
            "__________________________________________________________________________________________________\n",
            "None\n",
            "375/375 [==============================] - 5s 13ms/step - loss: 1.0755 - accuracy: 0.8378\n",
            "Accuracy: 83.77500176429749\n"
          ]
        }
      ]
    },
    {
      "cell_type": "code",
      "metadata": {
        "id": "2D-KB3CsPa8p"
      },
      "source": [
        "year_dict = {'2013': 0, '2014': 1, '2015': 2, '2016': 3, '2017': 4, '2018': 5}\n",
        "\n",
        "\n",
        "for i, x in train_data.iterrows():\n",
        "  train_data.loc[i, 'year'] = str(x['datetimeReviewTime'].year)\n",
        "\n",
        "\n",
        "\n",
        "for i, x in test_data.iterrows():\n",
        "  test_data['year'] = str(x['datetimeReviewTime'].year)\n"
      ],
      "execution_count": null,
      "outputs": []
    },
    {
      "cell_type": "code",
      "metadata": {
        "id": "YVLIptQCmWCu"
      },
      "source": [
        "year_tokenizer = Tokenizer()\n",
        "year_tokenizer.fit_on_texts(['2013', '2014', '2015', '2016', '2017', '2018'])\n",
        "\n",
        "encoded_year = year_tokenizer.texts_to_sequences(train_data['year'])\n",
        "year_tokens = pad_sequences(encoded_year, maxlen=1)\n",
        "\n",
        "\n",
        "test_encoded_year = year_tokenizer.texts_to_sequences(test_data['year'])\n",
        "test_year_tokens = pad_sequences(test_encoded_year, maxlen=1)"
      ],
      "execution_count": null,
      "outputs": []
    },
    {
      "cell_type": "code",
      "metadata": {
        "id": "_RYTbvzHB1Rr",
        "colab": {
          "base_uri": "https://localhost:8080/"
        },
        "outputId": "2f675162-efe7-4ddf-e5e0-4b1e4ecf1458"
      },
      "source": [
        "# input_text = tf.keras.layers.Input(shape=(max_len,))\n",
        "# input_year = tf.keras.layers.Input(shape=(1,))\n",
        "# embedding_text = Embedding(vocab_size, 100, input_length=max_len, name='embedding_layer_text')(input_text)\n",
        "# embedding_year = Embedding(7, 96, name='embedding_layer_year')(input_year)\n",
        "# conv_size_8 = Conv1D(filters=32, kernel_size=8, activation='relu', name='convolutional_layer_8', padding='same')(embedding_text)\n",
        "# conv_size_4 = Conv1D(filters=32, kernel_size=8, activation='relu', name='convolutional_layer_4', padding='same')(embedding_text)\n",
        "# conv_size_2 = Conv1D(filters=32, kernel_size=8, activation='relu', name='convolutional_layer_2', padding='same')(embedding_text)\n",
        "# pooling_8 = MaxPooling1D(pool_size=max_len, name='pooling_8')(conv_size_8)\n",
        "# pooling_4 = MaxPooling1D(pool_size=max_len, name='pooling_4')(conv_size_4)\n",
        "# pooling_2 = MaxPooling1D(pool_size=max_len, name='pooling_2')(conv_size_2)\n",
        "# concat = tf.keras.layers.concatenate([pooling_8, pooling_4, pooling_2], axis=2, name='concatenation')\n",
        "# flatten_text = Flatten(name='flattening_text')(concat)\n",
        "# flatten_year = Flatten(name='flattening_year')(embedding_year)\n",
        "# concat_year = tf.keras.layers.concatenate([flatten_text, flatten_year], axis=1, name='join_year')\n",
        "# dense = Dense(10, activation='relu', name='hidden_layer')(concat_year)\n",
        "# output = Dense(1, activation='sigmoid', name='output_layer')(dense)\n",
        "\n",
        "# model_year_concat = tf.keras.Model(inputs=[input_text, input_year], outputs=output)\n",
        "# print(model_year_concat.summary())"
      ],
      "execution_count": null,
      "outputs": [
        {
          "output_type": "stream",
          "name": "stdout",
          "text": [
            "Model: \"model_1\"\n",
            "__________________________________________________________________________________________________\n",
            " Layer (type)                   Output Shape         Param #     Connected to                     \n",
            "==================================================================================================\n",
            " input_3 (InputLayer)           [(None, 80)]         0           []                               \n",
            "                                                                                                  \n",
            " embedding_layer_text (Embeddin  (None, 80, 100)     2141300     ['input_3[0][0]']                \n",
            " g)                                                                                               \n",
            "                                                                                                  \n",
            " convolutional_layer_8 (Conv1D)  (None, 80, 32)      25632       ['embedding_layer_text[0][0]']   \n",
            "                                                                                                  \n",
            " convolutional_layer_4 (Conv1D)  (None, 80, 32)      25632       ['embedding_layer_text[0][0]']   \n",
            "                                                                                                  \n",
            " convolutional_layer_2 (Conv1D)  (None, 80, 32)      25632       ['embedding_layer_text[0][0]']   \n",
            "                                                                                                  \n",
            " pooling_8 (MaxPooling1D)       (None, 1, 32)        0           ['convolutional_layer_8[0][0]']  \n",
            "                                                                                                  \n",
            " pooling_4 (MaxPooling1D)       (None, 1, 32)        0           ['convolutional_layer_4[0][0]']  \n",
            "                                                                                                  \n",
            " pooling_2 (MaxPooling1D)       (None, 1, 32)        0           ['convolutional_layer_2[0][0]']  \n",
            "                                                                                                  \n",
            " input_4 (InputLayer)           [(None, 1)]          0           []                               \n",
            "                                                                                                  \n",
            " concatenation (Concatenate)    (None, 1, 96)        0           ['pooling_8[0][0]',              \n",
            "                                                                  'pooling_4[0][0]',              \n",
            "                                                                  'pooling_2[0][0]']              \n",
            "                                                                                                  \n",
            " embedding_layer_year (Embeddin  (None, 1, 96)       672         ['input_4[0][0]']                \n",
            " g)                                                                                               \n",
            "                                                                                                  \n",
            " flattening_text (Flatten)      (None, 96)           0           ['concatenation[0][0]']          \n",
            "                                                                                                  \n",
            " flattening_year (Flatten)      (None, 96)           0           ['embedding_layer_year[0][0]']   \n",
            "                                                                                                  \n",
            " join_year (Concatenate)        (None, 192)          0           ['flattening_text[0][0]',        \n",
            "                                                                  'flattening_year[0][0]']        \n",
            "                                                                                                  \n",
            " hidden_layer (Dense)           (None, 10)           1930        ['join_year[0][0]']              \n",
            "                                                                                                  \n",
            " output_layer (Dense)           (None, 1)            11          ['hidden_layer[0][0]']           \n",
            "                                                                                                  \n",
            "==================================================================================================\n",
            "Total params: 2,220,809\n",
            "Trainable params: 2,220,809\n",
            "Non-trainable params: 0\n",
            "__________________________________________________________________________________________________\n",
            "None\n"
          ]
        }
      ]
    },
    {
      "cell_type": "code",
      "metadata": {
        "id": "nRyFcHFHEfOu"
      },
      "source": [
        "logdir=\"/content/gdrive/My Drive/large_CNN_imp_year_concat/logs/\" + datetime.now().strftime(\"%Y%m%d-%H%M%S\")\n",
        "tensorboard_callback = tf.keras.callbacks.TensorBoard(log_dir=logdir)"
      ],
      "execution_count": null,
      "outputs": []
    },
    {
      "cell_type": "code",
      "metadata": {
        "id": "lrImjnA-Qo8o",
        "colab": {
          "base_uri": "https://localhost:8080/"
        },
        "outputId": "37aee81c-020b-4392-d2a7-54d5b6988d48"
      },
      "source": [
        "# model_year_concat.compile(loss='binary_crossentropy', optimizer='adam', metrics=['accuracy'])\n",
        "# model_year_concat.fit([train_text, year_tokens], train_sentiment, epochs=10, callbacks=[tensorboard_callback])\n",
        "# model_year_concat.save(\"/content/gdrive/My Drive/large_CNN_imp_year_concat/model\")"
      ],
      "execution_count": null,
      "outputs": [
        {
          "output_type": "stream",
          "name": "stdout",
          "text": [
            "Epoch 1/10\n",
            "1500/1500 [==============================] - 134s 89ms/step - loss: 0.3643 - accuracy: 0.8355\n",
            "Epoch 2/10\n",
            "1500/1500 [==============================] - 123s 82ms/step - loss: 0.2255 - accuracy: 0.9108\n",
            "Epoch 3/10\n",
            "1500/1500 [==============================] - 124s 83ms/step - loss: 0.1161 - accuracy: 0.9596\n",
            "Epoch 4/10\n",
            "1500/1500 [==============================] - 126s 84ms/step - loss: 0.0599 - accuracy: 0.9790\n",
            "Epoch 5/10\n",
            "1500/1500 [==============================] - 125s 83ms/step - loss: 0.0423 - accuracy: 0.9846\n",
            "Epoch 6/10\n",
            "1500/1500 [==============================] - 120s 80ms/step - loss: 0.0352 - accuracy: 0.9869\n",
            "Epoch 7/10\n",
            "1500/1500 [==============================] - 119s 79ms/step - loss: 0.0335 - accuracy: 0.9868\n",
            "Epoch 8/10\n",
            "1500/1500 [==============================] - 118s 79ms/step - loss: 0.0330 - accuracy: 0.9869\n",
            "Epoch 9/10\n",
            "1500/1500 [==============================] - 119s 79ms/step - loss: 0.0291 - accuracy: 0.9891\n",
            "Epoch 10/10\n",
            "1500/1500 [==============================] - 118s 79ms/step - loss: 0.0270 - accuracy: 0.9893\n",
            "INFO:tensorflow:Assets written to: /content/gdrive/My Drive/large_CNN_imp_year_concat/model/assets\n"
          ]
        }
      ]
    },
    {
      "cell_type": "code",
      "metadata": {
        "id": "Ba58WOEvElmx"
      },
      "source": [
        "# %tensorboard --logdir \"/content/gdrive/My Drive/large_CNN_imp_year_concat/logs/\""
      ],
      "execution_count": null,
      "outputs": []
    },
    {
      "cell_type": "code",
      "metadata": {
        "colab": {
          "base_uri": "https://localhost:8080/"
        },
        "id": "FbleEKFvqU5B",
        "outputId": "31bfe29a-63fa-4015-b62e-070c38cf40b9"
      },
      "source": [
        "model_loaded_year_concat = tf.keras.models.load_model('/content/gdrive/My Drive/large_CNN_imp_year_concat/model')\n",
        "loss, accuracy = model_loaded_year_concat.evaluate([test_text, test_year_tokens] , test_sentiment)\n",
        "print(\"Accuracy: \" + str(accuracy*100))"
      ],
      "execution_count": null,
      "outputs": [
        {
          "output_type": "stream",
          "name": "stdout",
          "text": [
            "375/375 [==============================] - 5s 14ms/step - loss: 1.1180 - accuracy: 0.8335\n",
            "Accuracy: 83.35000276565552\n"
          ]
        }
      ]
    },
    {
      "cell_type": "code",
      "metadata": {
        "id": "v_JN9W1sz2uD",
        "colab": {
          "base_uri": "https://localhost:8080/"
        },
        "outputId": "a2be7cdb-5c17-4f66-d91f-4583aeffb536"
      },
      "source": [
        "# input_text = tf.keras.layers.Input(shape=(max_len,))\n",
        "# input_year = tf.keras.layers.Input(shape=(1,))\n",
        "# embedding_text = Embedding(vocab_size, 100, input_length=max_len, name='embedding_layer_text')(input_text)\n",
        "# embedding_year = Embedding(7, 96, name='embedding_layer_year')(input_year)\n",
        "# conv_size_8 = Conv1D(filters=32, kernel_size=8, activation='relu', name='convolutional_layer_8', padding='same')(embedding_text)\n",
        "# conv_size_4 = Conv1D(filters=32, kernel_size=8, activation='relu', name='convolutional_layer_4', padding='same')(embedding_text)\n",
        "# conv_size_2 = Conv1D(filters=32, kernel_size=8, activation='relu', name='convolutional_layer_2', padding='same')(embedding_text)\n",
        "# pooling_8 = MaxPooling1D(pool_size=max_len, name='pooling_8')(conv_size_8)\n",
        "# pooling_4 = MaxPooling1D(pool_size=max_len, name='pooling_4')(conv_size_4)\n",
        "# pooling_2 = MaxPooling1D(pool_size=max_len, name='pooling_2')(conv_size_2)\n",
        "# concat = tf.keras.layers.concatenate([pooling_8, pooling_4, pooling_2], axis=2, name='concatenation')\n",
        "# flatten_text = Flatten(name='flattening_text')(concat)\n",
        "# flatten_year = Flatten(name='flattening_year')(embedding_year)\n",
        "# sum_year = tf.keras.layers.Add(name=\"summation_layer\")([flatten_text, flatten_year])\n",
        "# dense = Dense(10, activation='relu', name='hidden_layer')(sum_year)\n",
        "# output = Dense(1, activation='sigmoid', name='output_layer')(dense)\n",
        "\n",
        "# model_year_sum = tf.keras.Model(inputs=[input_text, input_year], outputs=output)\n",
        "# print(model_year_sum.summary())"
      ],
      "execution_count": null,
      "outputs": [
        {
          "output_type": "stream",
          "name": "stdout",
          "text": [
            "Model: \"model_2\"\n",
            "__________________________________________________________________________________________________\n",
            " Layer (type)                   Output Shape         Param #     Connected to                     \n",
            "==================================================================================================\n",
            " input_5 (InputLayer)           [(None, 80)]         0           []                               \n",
            "                                                                                                  \n",
            " embedding_layer_text (Embeddin  (None, 80, 100)     2141300     ['input_5[0][0]']                \n",
            " g)                                                                                               \n",
            "                                                                                                  \n",
            " convolutional_layer_8 (Conv1D)  (None, 80, 32)      25632       ['embedding_layer_text[0][0]']   \n",
            "                                                                                                  \n",
            " convolutional_layer_4 (Conv1D)  (None, 80, 32)      25632       ['embedding_layer_text[0][0]']   \n",
            "                                                                                                  \n",
            " convolutional_layer_2 (Conv1D)  (None, 80, 32)      25632       ['embedding_layer_text[0][0]']   \n",
            "                                                                                                  \n",
            " pooling_8 (MaxPooling1D)       (None, 1, 32)        0           ['convolutional_layer_8[0][0]']  \n",
            "                                                                                                  \n",
            " pooling_4 (MaxPooling1D)       (None, 1, 32)        0           ['convolutional_layer_4[0][0]']  \n",
            "                                                                                                  \n",
            " pooling_2 (MaxPooling1D)       (None, 1, 32)        0           ['convolutional_layer_2[0][0]']  \n",
            "                                                                                                  \n",
            " input_6 (InputLayer)           [(None, 1)]          0           []                               \n",
            "                                                                                                  \n",
            " concatenation (Concatenate)    (None, 1, 96)        0           ['pooling_8[0][0]',              \n",
            "                                                                  'pooling_4[0][0]',              \n",
            "                                                                  'pooling_2[0][0]']              \n",
            "                                                                                                  \n",
            " embedding_layer_year (Embeddin  (None, 1, 96)       672         ['input_6[0][0]']                \n",
            " g)                                                                                               \n",
            "                                                                                                  \n",
            " flattening_text (Flatten)      (None, 96)           0           ['concatenation[0][0]']          \n",
            "                                                                                                  \n",
            " flattening_year (Flatten)      (None, 96)           0           ['embedding_layer_year[0][0]']   \n",
            "                                                                                                  \n",
            " summation_layer (Add)          (None, 96)           0           ['flattening_text[0][0]',        \n",
            "                                                                  'flattening_year[0][0]']        \n",
            "                                                                                                  \n",
            " hidden_layer (Dense)           (None, 10)           970         ['summation_layer[0][0]']        \n",
            "                                                                                                  \n",
            " output_layer (Dense)           (None, 1)            11          ['hidden_layer[0][0]']           \n",
            "                                                                                                  \n",
            "==================================================================================================\n",
            "Total params: 2,219,849\n",
            "Trainable params: 2,219,849\n",
            "Non-trainable params: 0\n",
            "__________________________________________________________________________________________________\n",
            "None\n"
          ]
        }
      ]
    },
    {
      "cell_type": "code",
      "metadata": {
        "id": "U3s38W7jGOoX"
      },
      "source": [
        "logdir=\"/content/gdrive/My Drive/large_CNN_imp_year_sum/logs/\" + datetime.now().strftime(\"%Y%m%d-%H%M%S\")\n",
        "tensorboard_callback = tf.keras.callbacks.TensorBoard(log_dir=logdir)"
      ],
      "execution_count": null,
      "outputs": []
    },
    {
      "cell_type": "code",
      "metadata": {
        "id": "12GhO9_k07yO",
        "colab": {
          "base_uri": "https://localhost:8080/"
        },
        "outputId": "8fd4f432-8b2d-4fa0-da57-0cad3f9eb4a6"
      },
      "source": [
        "# model_year_sum.compile(loss='binary_crossentropy', optimizer='adam', metrics=['accuracy'])\n",
        "# model_year_sum.fit([train_text, year_tokens], train_sentiment, epochs=10, callbacks=[tensorboard_callback])\n",
        "# model_year_sum.save(\"/content/gdrive/My Drive/large_CNN_imp_year_sum/model\")"
      ],
      "execution_count": null,
      "outputs": [
        {
          "output_type": "stream",
          "name": "stderr",
          "text": [
            "/usr/local/lib/python3.7/dist-packages/keras/engine/functional.py:1410: CustomMaskWarning: Custom mask layers require a config and must override get_config. When loading, the custom mask layer must be passed to the custom_objects argument.\n",
            "  layer_config = serialize_layer_fn(layer)\n"
          ]
        },
        {
          "output_type": "stream",
          "name": "stdout",
          "text": [
            "Epoch 1/10\n",
            "1500/1500 [==============================] - 121s 80ms/step - loss: 0.3646 - accuracy: 0.8385\n",
            "Epoch 2/10\n",
            "1500/1500 [==============================] - 123s 82ms/step - loss: 0.2286 - accuracy: 0.9099\n",
            "Epoch 3/10\n",
            "1500/1500 [==============================] - 123s 82ms/step - loss: 0.1186 - accuracy: 0.9585\n",
            "Epoch 4/10\n",
            "1500/1500 [==============================] - 121s 81ms/step - loss: 0.0637 - accuracy: 0.9776\n",
            "Epoch 5/10\n",
            "1500/1500 [==============================] - 122s 81ms/step - loss: 0.0450 - accuracy: 0.9837\n",
            "Epoch 6/10\n",
            "1500/1500 [==============================] - 124s 83ms/step - loss: 0.0366 - accuracy: 0.9863\n",
            "Epoch 7/10\n",
            "1500/1500 [==============================] - 120s 80ms/step - loss: 0.0339 - accuracy: 0.9869\n",
            "Epoch 8/10\n",
            "1500/1500 [==============================] - 121s 81ms/step - loss: 0.0315 - accuracy: 0.9877\n",
            "Epoch 9/10\n",
            "1500/1500 [==============================] - 122s 82ms/step - loss: 0.0326 - accuracy: 0.9874\n",
            "Epoch 10/10\n",
            "1500/1500 [==============================] - 124s 83ms/step - loss: 0.0297 - accuracy: 0.9883\n",
            "INFO:tensorflow:Assets written to: /content/gdrive/My Drive/large_CNN_imp_year_sum/model/assets\n"
          ]
        },
        {
          "output_type": "stream",
          "name": "stderr",
          "text": [
            "/usr/local/lib/python3.7/dist-packages/keras/engine/functional.py:1410: CustomMaskWarning: Custom mask layers require a config and must override get_config. When loading, the custom mask layer must be passed to the custom_objects argument.\n",
            "  layer_config = serialize_layer_fn(layer)\n",
            "/usr/local/lib/python3.7/dist-packages/keras/saving/saved_model/layer_serialization.py:112: CustomMaskWarning: Custom mask layers require a config and must override get_config. When loading, the custom mask layer must be passed to the custom_objects argument.\n",
            "  return generic_utils.serialize_keras_object(obj)\n"
          ]
        }
      ]
    },
    {
      "cell_type": "code",
      "metadata": {
        "id": "OWMPmukxGVld"
      },
      "source": [
        "# %tensorboard --logdir \"/content/gdrive/My Drive/large_CNN_imp_year_sum/logs/\""
      ],
      "execution_count": null,
      "outputs": []
    },
    {
      "cell_type": "code",
      "metadata": {
        "colab": {
          "base_uri": "https://localhost:8080/"
        },
        "id": "LfnSIKr31kgx",
        "outputId": "199918a4-c36a-4668-9ef6-0dcef6023222"
      },
      "source": [
        "model_loaded_year_sum = tf.keras.models.load_model('/content/gdrive/My Drive/large_CNN_imp_year_sum/model')\n",
        "loss, accuracy = model_loaded_year_sum.evaluate([test_text, test_year_tokens] , test_sentiment)\n",
        "print(\"Accuracy: \" + str(accuracy*100))"
      ],
      "execution_count": null,
      "outputs": [
        {
          "output_type": "stream",
          "name": "stdout",
          "text": [
            "375/375 [==============================] - 5s 13ms/step - loss: 1.0345 - accuracy: 0.8392\n",
            "Accuracy: 83.91666412353516\n"
          ]
        }
      ]
    },
    {
      "cell_type": "code",
      "metadata": {
        "id": "nqUzKbWk9TYD"
      },
      "source": [
        "probabilities = model_loaded_a.predict(test_text)\n",
        "predictions = []\n",
        "for p in probabilities:\n",
        "  value = p[0]\n",
        "  if value >= 0.5:\n",
        "    predictions.append(1)\n",
        "  else:\n",
        "    predictions.append(0)\n",
        "\n",
        "probabilities_year = model_loaded_year_a.predict(test_text_year)\n",
        "predictions_year = []\n",
        "for p in probabilities_year:\n",
        "  value = p[0]\n",
        "  if value >= 0.5:\n",
        "    predictions_year.append(1)\n",
        "  else:\n",
        "    predictions_year.append(0)\n",
        "\n",
        "probabilities_year_concat = model_loaded_year_concat.predict([test_text, test_year_tokens])\n",
        "predictions_year_concat = []\n",
        "for p in probabilities_year_concat:\n",
        "  value = p[0]\n",
        "  if value >= 0.5:\n",
        "    predictions_year_concat.append(1)\n",
        "  else:\n",
        "    predictions_year_concat.append(0)\n",
        "\n",
        "probabilities_year_sum = model_loaded_year_concat.predict([test_text, test_year_tokens])\n",
        "predictions_year_sum = []\n",
        "for p in probabilities_year_sum:\n",
        "  value = p[0]\n",
        "  if value >= 0.5:\n",
        "    predictions_year_sum.append(1)\n",
        "  else:\n",
        "    predictions_year_sum.append(0)\n",
        "\n"
      ],
      "execution_count": null,
      "outputs": []
    },
    {
      "cell_type": "code",
      "metadata": {
        "id": "pxgFfRs4GbUq"
      },
      "source": [
        "sentiment_list = test_sentiment.to_list()\n",
        "data_year = test_data['text_with_year'].to_list()\n",
        "rating = test_data['overall'].to_list()\n",
        "\n",
        "\n",
        "correct = {'2013': 0, '2014': 0, '2015': 0, '2016': 0, '2017': 0, '2018': 0}\n",
        "total = {'2013': 0, '2014': 0, '2015': 0, '2016': 0, '2017': 0, '2018': 0}\n",
        "\n",
        "correct_year = {'2013': 0, '2014': 0, '2015': 0, '2016': 0, '2017': 0, '2018': 0}\n",
        "\n",
        "correct_year_concat = {'2013': 0, '2014': 0, '2015': 0, '2016': 0, '2017': 0, '2018': 0}\n",
        "\n",
        "correct_year_sum = {'2013': 0, '2014': 0, '2015': 0, '2016': 0, '2017': 0, '2018': 0}\n",
        "\n",
        "false_positive = []\n",
        "false_positive_year = []\n",
        "false_positive_concat = []\n",
        "false_positive_sum = []\n",
        "\n",
        "false_negative = []\n",
        "false_negative_year = []\n",
        "false_negative_concat = []\n",
        "false_negative_sum = []\n",
        "\n",
        "for i in range(len(sentiment_list)):\n",
        "  sent = sentiment_list[i]\n",
        "  year = data_year[i].split()[0]\n",
        "\n",
        "  if predictions[i] == sent: \n",
        "    correct[year] = correct[year] + 1\n",
        "  else:\n",
        "    if predictions[i] == 1:\n",
        "      false_positive.append((data_year[i], rating[i]))\n",
        "    else:\n",
        "      false_negative.append((data_year[i], rating[i]))\n",
        "  \n",
        "  if predictions_year[i] == sent: \n",
        "    correct_year[year] = correct_year[year] + 1\n",
        "  else:\n",
        "    if predictions_year[i] == 1:\n",
        "      false_positive_year.append((data_year[i], rating[i]))\n",
        "    else:\n",
        "      false_negative_year.append((data_year[i], rating[i]))\n",
        "  \n",
        "  if predictions_year_concat[i] == sent: \n",
        "    correct_year_concat[year] = correct_year_concat[year] + 1\n",
        "  else:\n",
        "    if predictions_year_concat[i] == 1:\n",
        "      false_positive_concat.append((data_year[i], rating[i]))\n",
        "    else:\n",
        "      false_negative_concat.append((data_year[i], rating[i]))\n",
        "\n",
        "  if predictions_year_sum[i] == sent: \n",
        "    correct_year_sum[year] = correct_year_sum[year] + 1\n",
        "  else:\n",
        "    if predictions_year_sum[i] == 1:\n",
        "      false_positive_sum.append((data_year[i], rating[i]))\n",
        "    else:\n",
        "      false_negative_sum.append((data_year[i], rating[i]))\n",
        "  \n",
        "  total[year] = total[year] + 1\n",
        "\n",
        "# print(correct)\n",
        "# print(correct_year)\n",
        "# print(correct_year_concat)\n",
        "# print(correct_year_sum)\n",
        "# print(total)\n"
      ],
      "execution_count": null,
      "outputs": []
    },
    {
      "cell_type": "code",
      "metadata": {
        "colab": {
          "base_uri": "https://localhost:8080/"
        },
        "id": "tHQGkYJswOAN",
        "outputId": "f621ad94-fa64-467b-ece2-e613e922da84"
      },
      "source": [
        "prng = np.random.RandomState(123)\n",
        "\n",
        "print(\"False Positive\")\n",
        "\n",
        "for i in range(10):\n",
        "  index = prng.randint(0, len(false_positive))\n",
        "  print(false_positive[index][0] + \"|\" + str(false_positive[index][1]))\n",
        "\n",
        "print(\"False Negative\")\n",
        "\n",
        "for i in range(10):\n",
        "  index = prng.randint(0, len(false_negative))\n",
        "  print(false_negative[index][0] + \"|\" + str(false_negative[index][1]))\n",
        "\n",
        "\n",
        "\n",
        "print(\"--------------\")\n",
        "\n",
        "print(\"False Positive\")\n",
        "\n",
        "for i in range(10):\n",
        "  index = prng.randint(0, len(false_positive_year))\n",
        "  print(false_positive_year[index][0] + \"|\" + str(false_positive_year[index][1]))\n",
        "\n",
        "print(\"False Negative\")\n",
        "\n",
        "for i in range(10):\n",
        "  index = prng.randint(0, len(false_negative_year))\n",
        "  print(false_negative_year[index][0] + \"|\" + str(false_negative_year[index][1]))\n",
        "\n",
        "\n",
        "\n",
        "\n",
        "print(\"--------------\")\n",
        "\n",
        "print(\"False Positive\")\n",
        "\n",
        "for i in range(10):\n",
        "  index = prng.randint(0, len(false_positive_concat))\n",
        "  print(false_positive_concat[index][0] + \"|\" + str(false_positive_concat[index][1]))\n",
        "\n",
        "print(\"False Negative\")\n",
        "\n",
        "for i in range(10):\n",
        "  index = prng.randint(0, len(false_negative_concat))\n",
        "  print(false_negative_concat[index][0] + \"|\" + str(false_negative_concat[index][1]))\n",
        "\n",
        "print(\"--------------\")\n",
        "\n",
        "print(\"False Positive\")\n",
        "\n",
        "for i in range(10):\n",
        "  index = prng.randint(0, len(false_positive_sum))\n",
        "  print(false_positive_sum[index][0] + \"|\" + str(false_positive_sum[index][1]))\n",
        "\n",
        "print(\"False Negative\")\n",
        "\n",
        "for i in range(10):\n",
        "  index = prng.randint(0, len(false_negative_sum))\n",
        "  print(false_negative_sum[index][0] + \"|\" + str(false_negative_sum[index][1]))"
      ],
      "execution_count": null,
      "outputs": [
        {
          "output_type": "stream",
          "name": "stdout",
          "text": [
            "False Positive\n",
            "2018 Gave away as a gift. No thank you from our friends who we gave it to.|2.0\n",
            "2016 Much too little for a small child. My mistake for not checking the measurements.  The sound is lovely and is works very well, just nit for a toddler.|3.0\n",
            "2016 I've been using this daily, but so far have seen no difference in the appearance of my dark spot. If this changes by the time I finish the product, I will update my review.. hoping this is a matter of time and patience.|1.0\n",
            "2017 Dimensions of buy fraction of a millimeter|1.0\n",
            "2013 i bought this for a gift and the person was really happy. no complaints. good way to save some money too|3.0\n",
            "2017 Works great but needs to  be a foot longer|3.0\n",
            "2018 Not at all what I expected from the Braun name.  Causes Ingrown hairs and is not as efficient or easy to use|2.0\n",
            "2017 It is sturdy and ruggedly built but it does not have a height adjustment for the microphone, which is a huge drawback. In hindsight, I would have done some more careful research and purchased a more flexible stand.|3.0\n",
            "2015 I want to love it, but don't yet...|3.0\n",
            "2017 Nice color selection. but it's kind of thick which reduce the voice thru MIC....|3.0\n",
            "False Negative\n",
            "2013 Made a great gift. Even for it being used, its a perfect e-reader. Not a bad price and shipping was easy.|4.0\n",
            "2014 I think this product is working and I like it.|5.0\n",
            "2018 The quality seems to be well. Its as advertised. But there is to much slack on top. The top of my head is not as large as some people i suppose. So i have to pull it down and foldthe end up twice. But it works very well.|4.0\n",
            "2013 I really like this program. I sell cars/trucks for a living, and went to a meeting. They suggested this app. It works GREAT.|5.0\n",
            "2017 base on the price it matchesnot good not bad|4.0\n",
            "2017 This came with easy to follow directions.  I use this Amazon Fire TV way more than the basic channels I have that comes with the best Internet Service package I could purchase.  The only problem is that it is a little confusing.  For example, you can download so many apps, but you don't really have access to video/tv channels, etc. That is an entirely separate step that you have to take over and over again for each app and it more than likely requires additional membership and subscriptions.  I guess I was just hoping there would be a more interactive type of access to help with adding apps that actually make streaming video easier.  Have you ever thought about adding video links posted from Amazon Video that expedites this process?  Seriously, you could make so much more money that way.  People want things to be easier.  Yes, I can go to youtube and watch countless videos but are these people reputable?  what if these are pirated sites?  what if there is some sort of problem after downloading from these youtube videos?  For someone like me, who knows almost nothing about URLs and gateways and reputable streaming alternatives, obviously,  I would want some sort of assurance from my trusted Amazon company, right?  I know it would go a long way for me.  I for one would be more at peace with knowing that a tried and true company like Amazon had my back.|4.0\n",
            "2017 I love the fact that, because of the fit, it becomes part of the echo. Can't comment pro or con on it's charge life because I haven't had it that long but, I'm not unhappy with this purchase.|5.0\n",
            "2018 Great product for the price. Refurbished item was like new. Sound quality is somewhat limited compared to Echo, that is why I give 4 stars.|4.0\n",
            "2017 I tried the \"lick test\" and failed miserably (lick your wrist, let it dry 10 seconds, sniff it... if it stinks your breath stinks). This stuff solved the problem and works great! This used twice a day combined with Therabreath mouthwash has made it so I have fresh breath all day and I now pass the \"lick test\" even at the end of the day|5.0\n",
            "2014 I expected this computer top be fast, and it is.  I am not too wild about windows 8 graphical interface vs XP and Vista.  I was able to load Office 2007 small business.  I had to download a new printer driver for my OKI 5800 Ldn.|5.0\n",
            "--------------\n",
            "False Positive\n",
            "2013 Obviously, I love reading books on the Kindle Fire way better than reading them on my iPhone.  Battery life is okay, not great.  Picture is clear when watching streaming video.  I absolutely hate that there is no external volume control.  Super incovenient to have to go through the menu when I want to adjust the volume on certain apps.|3.0\n",
            "2015 None of the 5 star reviews can be believed because they all girvtgevhead fur a discount. Aka their reviews were bought.|1.0\n",
            "2013 I returned these rollers because they did not fit into the legs of my bed frames.  I would have thought these would be a universal fit.  I was wrong.|1.0\n",
            "2017 Not really what I expected|2.0\n",
            "2013 love the features.  works very well with my I pod.  good volume control. great for walks but too lose for heavy workouts.  micro chip mp3 player is great  but no shuffle.|3.0\n",
            "2017 looks good but the straps is not good at all. I have only been using this for a week and it already broke. I wish that I had read the comments before I bought the bag.|1.0\n",
            "2018 Can't seem to dial it in to my comfort zone|3.0\n",
            "2017 Good on medium spots|3.0\n",
            "2014 Seems like what I wanted to write music for several medieval instruments and different vocal parts.|3.0\n",
            "2013 I used this mic to record the vocals on my album \"My Girlfriend's Dead\".  It was the first album I ever recorded and produced on my own. I thought the nasal sound of my voice was simply the sound of my voice at the time. It wasn't. It was the mic. If you listen to people even just speaking over this mic, they sound nasal. The Shure SM7B does everything the RE20 does but sounds far better on vocals. Don't be fooled by the price difference into thinking that the RE20 is better. It most definitely is not.  I kept the RE20 for years and used it as a kick drum mic.|3.0\n",
            "False Negative\n",
            "2014 I replaced the busted stock head unit in my 05 F150 with this and the difference is night and day. The sound quality from this deck is superb, and the control you have with the Pro Eq is fantastic. I was able to dial it in to the point where you would swear I have a small sub in there somewhere, but it's just stock speakers in the short doors and some aftermarket Pioneers in the front, plus this head unit.\n",
            "\n",
            "I had lines run for an amp and sub when I had this installed and it sounds so good as is that I'm considering just leaving it alone. We shall see.\n",
            "\n",
            "The bluetooth works really well and I haven't had any real issues with it. It was easy to sync my phone up and it automatically links up every time I get in my truck. I put the mic on the top edge of the door trim just behind the hinge for the sun visor and it picks up my voice just fine. Calls coming through are clear enough and I haven't had any complaints from clients or friends about the call quality. The only annoying thing is that when there's road noise, the voice command feature can get a little iffy. There have been multiple times when I've ended up cursing at the top of my lungs at the phone because it comes up with some unintelligible jargon from me trying to find somebody's name. Half of that is probably my phone (GS3) though, cause it can't differentiate certain names when there's no background noise, so ymmv.|5.0\n",
            "2015 i like it because it stains and has another shade of pink u can't really see the designs on it|4.0\n",
            "2017 These work really well. They are not big and bulky, they fit tight but comfortable as they should and do not feel cheap or that they will easily fray and disintegrate.|4.0\n",
            "2015 Valley of Fear proves that Conan Doyle has the talent to write both short stories and longer pieces. Of all the Sherlock Holmes stories, this is my favorite!|5.0\n",
            "2016 Good but it is a little awkward in my hand.|4.0\n",
            "2013 I've had my first smart phone since July, the Motorola Droid Razr Maxx.  After deleting all the NFL apps and other useless things, I set out looking for a simple metronome, tuning fork, flashlight, and other functional, simple, small, free, and non-net-necessary apps.\n",
            "\n",
            "  The Note Calculator & Tuning Fork is exactly that.  The note is clear and rings continuously, allowing me to tune my guitar, mandolin, or ukulele, or anything else if I don't have my physical tuning fork (I keep one in every instrument case, but this app helps if I'm playing someone else's instrument).  It has also helped me to figure out what key a song or piece of music is in (for instance, while listening to the radio in the car).\n",
            "\n",
            "  One major criticism is the way in which the pitch and frequency is selected.  The slide bar works, but it is an incredible frustration to land the indicator exactly on the spot you want (especially the frequency).  The formula being shown is neat, but I don't even know how high or low this thing goes because I don't dare take it off of A 440.  Advice for an update:  add + and - buttons for each slider to fine-tune it.  \"Simple Metronome\" is another good app that does exactly that.|4.0\n",
            "2015 O don't know how I would act with out kindlr.|5.0\n",
            "2014 What you see is what you get. nothing special but this is a great price and fits perfectly on my motherboard.|5.0\n",
            "2015 If you do your nails at home these are great for anyone trying to keep remover on with the tin foil caps.  They just don't work if you have to use your hands.  These keep the cotton ball in place and you can leave them on and do what you need to without the tin foil falling off.  Great idea.|5.0\n",
            "2016 excellent multipurpose bag|5.0\n",
            "--------------\n",
            "False Positive\n",
            "2013 test all Monorprice cables with a pin to pin tester. I have had issues with wiring problems causing phasing issues.\n",
            "\n",
            "Monoprice knows about the problem for a couple years now but they have no current solution to fix it.|1.0\n",
            "2013 While I love Sriracha the packaging job was horrible and all 3 bottles exploded. Take warning when ordering. Oh and did I mention it covered everything else in my box... It was just lovely.|2.0\n",
            "2017 Works great but needs to  be a foot longer|3.0\n",
            "2017 I love this Chip,  tasty as always.  Ordered two, but one Chip is smashed and opened.|3.0\n",
            "2015 They arrived earlier than I expected, they are nice and very light easy to put on. The flowers are not as defined as the image but still are nice for casual wear. I like them, overall good buy|3.0\n",
            "2013 My new Kindle Fire works great and is a great product.  However, it is not a \"stand alone\" product.  You have to buy books.  I believe the books are, for the most part, over priced.  For example, \"Gone Girl: A Novel\" sells on Kindle for $12.99.  That compares well with list price of $25.00.  BUT, Amazon sells hard cover (free two day shipping with Prime memberships, which I have) for $13.75.  That is less than $1.00 difference.  Honestly, come on.  It is an electronic version that flies through the air, no printing costs and no shipping costs.  I realize there is some effort in preparing books for Kindle but new books should be less than $10, max, most should be $7.00 or $8.00.  Older books should be really cheap.  I was going to reread Gregory McDonald's \"Fletch\" series, but they are $9.99 each.  Really, the first Fletch book is about 35 years old.  Sure, they are great books but they should be at bargin bin prices.  There are exceptions.  Laurence Shames Key West series is available at $2.99 a book.  These are great books (you should read them if you haven't, fans of Carl Hiaasen will love them) at a fair price.  More books should follow suit.  I do have Amazon Prime which allows you a once a month borrow from the \"lending library.\"  Note, the books available to borrow are very limited.|3.0\n",
            "2017 tips with semi heavy mics, besides that its fantastic|3.0\n",
            "2016 I was very disappointed with the lack of actual comics. All I got were trivia questions and little phrases.|3.0\n",
            "2018 Gave away as a gift. No thank you from our friends who we gave it to.|2.0\n",
            "2016 I've been using a USB version of Logitech's headset for the past few years and it has worked perfectly. I use it for both Skype and Dragon Naturally Speaking. It can be tough to get a good microphone for Dragon. Sound quality is very good, and more importantly they are comfortable on your head. When the plastic snapped on the old set, I thought I would try this version, but this is not a USB version. I could not get the headset to connect to my system properly. I was able to get sound, but could not get the microphone working. The USB version was pretty much plug-and-play. So, I'm going back to my tried-and-true USB version of this headset, and suggest others do the same.|1.0\n",
            "False Negative\n",
            "2015 I love this as a base color.\n",
            "I thought I'd use it alone but it's very dark which is OK, it's supposed to be. But I'm not daring enough to use it that dark.\n",
            "Nonetheless, I love it. I LOVE IT.|4.0\n",
            "2015 Love the size.  Have not been able to use it enough to really get comfortable with it, but what I have been able to use, love it....  Something I forgot about though was the camera.  You can't see what you are taking pictures of unless you hold it to the side or you are taking a picture of yourself...|4.0\n",
            "2018 The quality seems to be well. Its as advertised. But there is to much slack on top. The top of my head is not as large as some people i suppose. So i have to pull it down and foldthe end up twice. But it works very well.|4.0\n",
            "2014 Its really good charger cable for your portable mp3 player.|5.0\n",
            "2013 The Crest Pro-Health line has several different flavors of mint. Fresh mint, smooth mint, clean mint and invigorating mint. How much mint do you actually need? It's refreshing to have a non-mint option. I like the wintergreen flavor. It's refreshing and a nice change from the usual mint.|5.0\n",
            "2013 The really nice part of this instrument is that, because the music card can be slid under the strings, you can play a song that is recognizable without trouble.  Just a little bit of timing and practice, you feel like a success.  One of my daughters got a keyboard, but that just seems like we are making noise. Rhythmical noise, but still just noise.  Turns out that the eight year old, was the best of playing the lap harp.  I would even bet that you can download additional music from the internet and print on your home computer for even more variety.|5.0\n",
            "2016 Not bad at all haven't really done much with it since my set up isn't all to great so hoping it turn out great|5.0\n",
            "2014 Good for Kids.|5.0\n",
            "2015 I've dabbled with Android (both stock and custom ROMs), WebOs (HP TouchPad), and Apple (parents and in laws) tablets, but I never used any Fire OS tablets.  Having read reviews and comparisons, as well as some videos of the updated OS, I took the plunge.\n",
            "\n",
            "The compact yet lengthy box opens to reveal a remarkably thin and incredibly light tablet.  Any case weighs almost as much as the tablet, and I cannot imagine anything lighter.  The build quality is good, though not exceptional, but it never feels cheep.  In use it's responsive, keeps going all day, and never feels warm.  The app selection is great (pretty much any non-Google Android app), and the OS makes finding your apps and media a breeze.\n",
            "\n",
            "As an Android user, I don't find myself missing much (no Google now is a bit of a bummer).  I love the size and aspect ratio, as a 10\" 16x9 device really isn't too practical.  I never really liked iOS, but I could see my parents loving this.|5.0\n",
            "2017 Pretty good player. There is a random delay from sleep sometimes which is rather annoying|4.0\n",
            "--------------\n",
            "False Positive\n",
            "2013 test all Monorprice cables with a pin to pin tester. I have had issues with wiring problems causing phasing issues.\n",
            "\n",
            "Monoprice knows about the problem for a couple years now but they have no current solution to fix it.|1.0\n",
            "2016 I wanted a temp/humidity monitor that had a high/low reading. Pleased with that. Works fine. My issue is with the humidity reading. I lined up two other hygrometers next to it and the AcuRite was 10% below the other two. It fluctuated along with the rest, but was constantly 10% below the proper reading. The temp reading are spot on though. Guess you get what you pay for.|3.0\n",
            "2017 Dimensions of buy fraction of a millimeter|1.0\n",
            "2015 It worked.|3.0\n",
            "2015 So it kinda prevents pops... But not as good as I had hoped. I live in Ohio and shipping took 8 days to get here with free shipping... Easy set up, wiggles a little.|3.0\n",
            "2016 I wish iI had more battery power that would last more than 8 hours when I have the wii on.\n",
            "asi is I only get about 3 hours when I have it on!!!!|3.0\n",
            "2014 I have had Maschine Studio for almost a year.. and while the controller is very nice, the software is severely lacking and cannot be recommended at all.\n",
            "\n",
            "The image NI is selling is that Maschine is easier to use than a DAW.. well, its just not.\n",
            "\n",
            "If you have hardware gear,\n",
            "A. Forget about Maschine if you have Windows.. only one midi out port can be used.. as in, only one of the midi out ports in the options can be enabled.. if you attempt to say use usb midi and one of the (3) DIN ports, everything hangs up after 10-15mins... this is a bug that has been in Maschine for over two years.\n",
            "B. You cannot use the \"midi learn\", \"freely assignable\" 8 macro knobs to do anything at all on external gear...want to adjust cutoff on that cool beat on your rack synth?.. forget it.\n",
            "\n",
            "If you have ITB setup..\n",
            "A. Forget about multi-timbral VST.. as soon as you view your second channel your VST disappears!.. there is a workaround with routing that you can hear a second sound while playing with the VST, but you cannot adjust anything while you record as you lose the macro knobs on pads 2-16.. so, recording or playing knob twiddles live is a non-starter.\n",
            "B. Be warned that maschine pretty much plays well with NI VST only... some other lose their presets, lose their setups, lose functionality.\n",
            "\n",
            "Maschine also.\n",
            "A. has zero internal midi routing, so you cant insert a midi VST into a channel.. , and cant use midi out of a VST to drive another one.\n",
            "B. Does not accept tempo changes in a song.\n",
            "C. Cannot record a performance of solo's mute's pattern changes etc.\n",
            "D. Cannot arm individual pad/tracks for recording\n",
            "E. Cannot turn off midi in on any pad/channel (\"OFF\" is not OFF, its \"OMNI\")..so recording can be a crap shoot of unwanted data spewing around across groups.\n",
            "F. If you don't have Komplete,\n",
            "\n",
            "So, buy this if..\n",
            "1. you are gonna be sample based, (hiphop type stuff).. its probably going to be ok,\n",
            "2. you are really just looking for a drum pattern sequencer.. for this its great.\n",
            "\n",
            "Don't buy if..\n",
            "1. You are looking for a capable sequencer.\n",
            "2. You want to integrate this with hardware synths\n",
            "3. You want a DAW and think this is easier... its not... buy Live, Ableton, Sonar or Logic.. They all can do far far more for less $$$\n",
            "\n",
            "but hey!.. it looks pretty and the glib videos are awesome.|1.0\n",
            "2014 This is a mid grade guitar string. If you are looking for an inexpensive string that works, then you found it. It is not the best just to make it clear. I experience vibration in the 2nd and 5th string. Comparing this to Martin Acoustic SP Light, Martin is better. I hope this review help others looking for an inexpensive guitar string.|3.0\n",
            "2018 Got it on sale.  Easy setup but just ok on video quality.|3.0\n",
            "2016 Worked fine for about a year, then the voice related functions stopped working.|3.0\n",
            "False Negative\n",
            "2015 funny accent to my teen daughter's room. She has painted the nails and put her rings on it.|5.0\n",
            "2013 It work good and I was having issues with the dimming of my lights and my alternator and battery was taking a beaten  I went threw 2 alternators and one battery but ever since I put the capacitor on it was dimming a lot less but as it charged more and more the dimming stopped and my bass was hitting harder and crispier so I say it's a good deal especially for the price|4.0\n",
            "2018 Dot works well but sound quality is not up to full echo 2nd edition|4.0\n",
            "2018 Works great but it broke in half after a few uses|4.0\n",
            "2015 Worked with my Galaxy Tab 10|4.0\n",
            "2013 Had a bar like this for several years. Didn't know where I got it, so ...looked around, found this...which looked similar. It was the same soap! This is a hard-edged TOUGH bar of soap that gets rid of EVERYTHING! Cuts through grease like magic, has a nice, strong scent, and the grit scrubs off the most stubborn dirt/grime from the garden. Careful...it'll dry out your skin if you over use it, but it's perfect if you're looking to get out soil and/or oils from outdoor work. Doesn't take much to get it going, either. A rub or two gets you enough soap to lather up AND grit off whatever you're trying to manage. HIGHLY recommend this.|5.0\n",
            "2014 I received a free product for the purpose of my review. Opinions are 100% my own.\n",
            "\n",
            "Crest Sensi-Stop Strips are fast acting and completely amazing! I used them in addition to my sensitive tooth & gums toothpaste.\n",
            "\n",
            "I followed the directions and left the strip on the affected area for 10 minutes and I was very very pleased with the results! I was able to go about my day and not have the temperature of my beverages or food be bothersome. Once I find these in local stores, I'm most assuredly making a purchase! I don't have anything negative to say about Crest Sensi-Stop Strips!|5.0\n",
            "2013 The only thing I don't like is the coiled tube as it doesn't seem to want to straighten out easily for use and the lid (which houses the tips) is always falling into the reservoir when I try to put it back on after filling it.  Otherwise, it's a great product!|4.0\n",
            "2018 it's super heavy and basically straight-up vaseline/petroleum jelly but it does absorb better than that. I put it on before I sleep when I don't have to touch anything because it does take a while to absorb.|5.0\n",
            "2016 This really worked after my lashes broke.|5.0\n"
          ]
        }
      ]
    },
    {
      "cell_type": "code",
      "metadata": {
        "colab": {
          "base_uri": "https://localhost:8080/",
          "height": 294
        },
        "id": "1eY338VFyga2",
        "outputId": "a207adb0-ec52-4806-f051-38c17610be45"
      },
      "source": [
        "fig, axes = plt.subplots(4,2)\n",
        "fig.suptitle(\"Actual Ratings\")\n",
        "fig.subplots_adjust(hspace=0.7)\n",
        "\n",
        "false_positive_values = []\n",
        "for x in false_positive:\n",
        "  false_positive_values.append(x[1])\n",
        "\n",
        "\n",
        "axes[0, 0].hist(false_positive_values, bins=[0.5,1.5,2.5,3.5], rwidth=0.5)\n",
        "axes[0,0].set_title(\"Baseline False Positive\")\n",
        "\n",
        "\n",
        "false_negative_values = []\n",
        "for x in false_negative:\n",
        "  false_negative_values.append(x[1])\n",
        "\n",
        "axes[0, 1].hist(false_negative_values, bins=[3.5,4.5,5.5], rwidth=0.5)\n",
        "axes[0,1].set_title(\"Baseline False Negative\")\n",
        "\n",
        "false_positive_values_year = []\n",
        "for x in false_positive_year:\n",
        "  false_positive_values_year.append(x[1])\n",
        "\n",
        "axes[1, 0].hist(false_positive_values_year, bins=[0.5,1.5,2.5,3.5], rwidth=0.5)\n",
        "axes[1,0].set_title(\"W/ Year False Positive\")\n",
        "\n",
        "false_negative_values_year = []\n",
        "for x in false_negative_year:\n",
        "  false_negative_values_year.append(x[1])\n",
        "\n",
        "axes[1, 1].hist(false_negative_values_year, bins=[3.5,4.5,5.5], rwidth=0.5)\n",
        "axes[1,1].set_title(\"W/ Year False Negative\")\n",
        "\n",
        "\n",
        "false_positive_values_concat = []\n",
        "for x in false_positive_concat:\n",
        "  false_positive_values_concat.append(x[1])\n",
        "\n",
        "axes[2, 0].hist(false_positive_values_concat, bins=[0.5,1.5,2.5,3.5], rwidth=0.5)\n",
        "axes[2,0].set_title(\"Concatenation False Positive\")\n",
        "\n",
        "false_negative_values_concat = []\n",
        "for x in false_negative_concat:\n",
        "  false_negative_values_concat.append(x[1])\n",
        "\n",
        "axes[2, 1].hist(false_negative_values_concat, bins=[3.5,4.5,5.5], rwidth=0.5)\n",
        "axes[2,1].set_title(\"Concatenation False Negative\")\n",
        "\n",
        "false_positive_values_sum = []\n",
        "for x in false_positive_sum:\n",
        "  false_positive_values_sum.append(x[1])\n",
        "\n",
        "axes[3, 0].hist(false_positive_values_sum, bins=[0.5,1.5,2.5,3.5], rwidth=0.5)\n",
        "axes[3,0].set_title(\"Summation False Positive\")\n",
        "\n",
        "false_negative_values_sum = []\n",
        "for x in false_negative_sum:\n",
        "  false_negative_values_sum.append(x[1])\n",
        "\n",
        "axes[3, 1].hist(false_negative_values_sum, bins=[3.5,4.5,5.5], rwidth=0.5)\n",
        "axes[3,1].set_title(\"Summation False Negative\")\n",
        "\n",
        "\n",
        "for ax in fig.get_axes():\n",
        "    ax.label_outer()\n",
        "\n",
        "fig.show()"
      ],
      "execution_count": null,
      "outputs": [
        {
          "output_type": "display_data",
          "data": {
            "image/png": "[encoded data removed]",
            "text/plain": [
              "<Figure size 432x288 with 8 Axes>"
            ]
          },
          "metadata": {
            "needs_background": "light"
          }
        }
      ]
    },
    {
      "cell_type": "code",
      "metadata": {
        "colab": {
          "base_uri": "https://localhost:8080/",
          "height": 265
        },
        "id": "wppt3g51HyHq",
        "outputId": "0e496451-f7e3-401d-b4b7-88e96adb78b8"
      },
      "source": [
        "accuracy_plot = {}\n",
        "\n",
        "for year in correct:\n",
        "  accuracy_plot[year] = correct[year] / total[year]\n",
        "\n",
        "plt.plot(list(accuracy_plot.keys()), list(accuracy_plot.values()), label='No Year')\n",
        "\n",
        "for year in accuracy_plot:\n",
        "  plt.text(year, accuracy_plot[year], str(np.around(accuracy_plot[year], decimals=3)))\n",
        "\n",
        "accuracy_plot_year = {}\n",
        "\n",
        "for year in correct_year:\n",
        "  accuracy_plot_year[year] = correct_year[year] / total[year]\n",
        "\n",
        "plt.plot(list(accuracy_plot_year.keys()), list(accuracy_plot_year.values()), label='W/ Year')\n",
        "for year in accuracy_plot_year:\n",
        "  plt.text(year, accuracy_plot_year[year], str(np.around(accuracy_plot_year[year], decimals=3)))\n",
        "\n",
        "accuracy_plot_year_concat = {}\n",
        "\n",
        "for year in correct_year_concat:\n",
        "  accuracy_plot_year_concat[year] = correct_year_concat[year] / total[year]\n",
        "\n",
        "plt.plot(list(accuracy_plot_year_concat.keys()), list(accuracy_plot_year_concat.values()), label='W/ Year Concat.')\n",
        "for year in accuracy_plot_year_concat:\n",
        "  plt.text(year, accuracy_plot_year_concat[year], str(np.around(accuracy_plot_year_concat[year], decimals=3)))\n",
        "\n",
        "accuracy_plot_year_sum = {}\n",
        "\n",
        "for year in correct_year_sum:\n",
        "  accuracy_plot_year_sum[year] = correct_year_sum[year] / total[year]\n",
        "\n",
        "plt.plot(list(accuracy_plot_year_sum.keys()), list(accuracy_plot_year_sum.values()), label='W/ Year Sum')\n",
        "for year in accuracy_plot_year_concat:\n",
        "  plt.text(year, accuracy_plot_year_sum[year], str(np.around(accuracy_plot_year_sum[year], decimals=3)))\n",
        "\n",
        "\n",
        "\n",
        "plt.legend()\n",
        "\n",
        "plt.show()"
      ],
      "execution_count": null,
      "outputs": [
        {
          "output_type": "display_data",
          "data": {
            "image/png": "[encoded data removed]",
            "text/plain": [
              "<Figure size 432x288 with 1 Axes>"
            ]
          },
          "metadata": {
            "needs_background": "light"
          }
        }
      ]
    },
    {
      "cell_type": "code",
      "metadata": {
        "colab": {
          "base_uri": "https://localhost:8080/"
        },
        "id": "jlFb30-U8dKU",
        "outputId": "b45d61e4-f9a3-447f-cd75-c7ea54038cdc"
      },
      "source": [
        "import gensim\n",
        "import gensim.downloader as gensim_api\n",
        "\n",
        "w2v = gensim_api.load(\"glove-wiki-gigaword-100\")"
      ],
      "execution_count": null,
      "outputs": [
        {
          "output_type": "stream",
          "name": "stdout",
          "text": [
            "[==================================================] 100.0% 128.1/128.1MB downloaded\n"
          ]
        }
      ]
    },
    {
      "cell_type": "code",
      "metadata": {
        "id": "_3mQfcehR_RF"
      },
      "source": [
        "all_train_text_w2v = train_data['reviewText']\n",
        "stop_words = set(nltk.corpus.stopwords.words('english'))\n",
        "clean_text_w2v = []\n",
        "for x in all_train_text_w2v:\n",
        "  #unigrams\n",
        "  x = x.lower()\n",
        "  tokens = x.split()\n",
        "\n",
        "  #remove punctuation\n",
        "  table = str.maketrans('', '', string.punctuation)\n",
        "  tokens = [w.translate(table) for w in tokens]\n",
        "\n",
        "  #remove stopwords\n",
        "  tokens = [w for w in tokens if not w in stop_words]\n",
        "  clean_text_w2v.append(tokens)\n",
        "\n",
        "\n",
        "\n",
        "filtered_text_w2v = []\n",
        "for text in clean_text_w2v:\n",
        "  text = [w for w in text if w in w2v.vocab]\n",
        "  filtered_text_w2v.append(text)"
      ],
      "execution_count": null,
      "outputs": []
    },
    {
      "cell_type": "code",
      "metadata": {
        "id": "QLMqOthfaIUy"
      },
      "source": [
        "all_test_text_w2v = test_data['reviewText']\n",
        "\n",
        "clean_text_w2v = []\n",
        "for x in all_test_text_w2v:\n",
        "  x = x.lower()\n",
        "  tokens = x.split()\n",
        "\n",
        "  #remove punctuation\n",
        "  table = str.maketrans('', '', string.punctuation)\n",
        "  tokens = [w.translate(table) for w in tokens]\n",
        "\n",
        "  #remove stopwords\n",
        "  tokens = [w for w in tokens if not w in stop_words]\n",
        "  clean_text_w2v.append(tokens)\n",
        "\n",
        "filtered_text_test_w2v = []\n",
        "for text in clean_text_w2v:\n",
        "  text = [w for w in text if w in w2v.vocab]\n",
        "  filtered_text_test_w2v.append(text)"
      ],
      "execution_count": null,
      "outputs": []
    },
    {
      "cell_type": "code",
      "metadata": {
        "colab": {
          "base_uri": "https://localhost:8080/"
        },
        "id": "iaqnqUCU_0QH",
        "outputId": "41c092c6-2f56-421e-bc10-cdf171bb4cae"
      },
      "source": [
        "# embeddings = np.empty([len(train_data), 250, 100])\n",
        "\n",
        "# row_counter = 0\n",
        "# for text in filtered_text_w2v:\n",
        "#   column_counter = 0\n",
        "#   for i in range(len(text)):\n",
        "#     embedding = w2v[str(text[i])]\n",
        "#     embeddings[row_counter][column_counter] = embedding\n",
        "#     column_counter += 1\n",
        "#     if column_counter == 250:\n",
        "#       break\n",
        "#   row_counter += 1\n",
        "# print(embeddings[:10])\n",
        "# print(embeddings.shape)\n",
        "\n",
        "\n",
        "train_indicies = np.empty([len(filtered_text_w2v), max_len])\n",
        "for i in range(len(filtered_text_w2v)):\n",
        "  text = filtered_text_w2v[i]\n",
        "  entry = np.empty(max_len)\n",
        "  for j in range(max_len):\n",
        "    if j >= len(text):\n",
        "      entry[j] = 0\n",
        "    else: \n",
        "      word = text[j]\n",
        "      entry[j] = w2v.wv.vocab[word].index\n",
        "  train_indicies[i] = entry\n",
        "\n",
        "print(type(train_indicies))\n",
        "print(train_indicies[:5])\n",
        "embedding_layer_w2v = w2v.get_keras_embedding()\n",
        "\n"
      ],
      "execution_count": null,
      "outputs": [
        {
          "output_type": "stream",
          "name": "stderr",
          "text": [
            "/usr/local/lib/python3.7/dist-packages/ipykernel_launcher.py:26: DeprecationWarning: Call to deprecated `wv` (Attribute will be removed in 4.0.0, use self instead).\n"
          ]
        },
        {
          "output_type": "stream",
          "name": "stdout",
          "text": [
            "<class 'numpy.ndarray'>\n",
            "[[5.47200e+04 9.40000e+01 4.23600e+03 2.09610e+04 0.00000e+00 0.00000e+00\n",
            "  0.00000e+00 0.00000e+00 0.00000e+00 0.00000e+00 0.00000e+00 0.00000e+00\n",
            "  0.00000e+00 0.00000e+00 0.00000e+00 0.00000e+00 0.00000e+00 0.00000e+00\n",
            "  0.00000e+00 0.00000e+00 0.00000e+00 0.00000e+00 0.00000e+00 0.00000e+00\n",
            "  0.00000e+00 0.00000e+00 0.00000e+00 0.00000e+00 0.00000e+00 0.00000e+00\n",
            "  0.00000e+00 0.00000e+00 0.00000e+00 0.00000e+00 0.00000e+00 0.00000e+00\n",
            "  0.00000e+00 0.00000e+00 0.00000e+00 0.00000e+00 0.00000e+00 0.00000e+00\n",
            "  0.00000e+00 0.00000e+00 0.00000e+00 0.00000e+00 0.00000e+00 0.00000e+00\n",
            "  0.00000e+00 0.00000e+00 0.00000e+00 0.00000e+00 0.00000e+00 0.00000e+00\n",
            "  0.00000e+00 0.00000e+00 0.00000e+00 0.00000e+00 0.00000e+00 0.00000e+00\n",
            "  0.00000e+00 0.00000e+00 0.00000e+00 0.00000e+00 0.00000e+00 0.00000e+00\n",
            "  0.00000e+00 0.00000e+00 0.00000e+00 0.00000e+00 0.00000e+00 0.00000e+00\n",
            "  0.00000e+00 0.00000e+00 0.00000e+00 0.00000e+00 0.00000e+00 0.00000e+00\n",
            "  0.00000e+00 0.00000e+00]\n",
            " [5.77200e+03 8.35000e+02 0.00000e+00 0.00000e+00 0.00000e+00 0.00000e+00\n",
            "  0.00000e+00 0.00000e+00 0.00000e+00 0.00000e+00 0.00000e+00 0.00000e+00\n",
            "  0.00000e+00 0.00000e+00 0.00000e+00 0.00000e+00 0.00000e+00 0.00000e+00\n",
            "  0.00000e+00 0.00000e+00 0.00000e+00 0.00000e+00 0.00000e+00 0.00000e+00\n",
            "  0.00000e+00 0.00000e+00 0.00000e+00 0.00000e+00 0.00000e+00 0.00000e+00\n",
            "  0.00000e+00 0.00000e+00 0.00000e+00 0.00000e+00 0.00000e+00 0.00000e+00\n",
            "  0.00000e+00 0.00000e+00 0.00000e+00 0.00000e+00 0.00000e+00 0.00000e+00\n",
            "  0.00000e+00 0.00000e+00 0.00000e+00 0.00000e+00 0.00000e+00 0.00000e+00\n",
            "  0.00000e+00 0.00000e+00 0.00000e+00 0.00000e+00 0.00000e+00 0.00000e+00\n",
            "  0.00000e+00 0.00000e+00 0.00000e+00 0.00000e+00 0.00000e+00 0.00000e+00\n",
            "  0.00000e+00 0.00000e+00 0.00000e+00 0.00000e+00 0.00000e+00 0.00000e+00\n",
            "  0.00000e+00 0.00000e+00 0.00000e+00 0.00000e+00 0.00000e+00 0.00000e+00\n",
            "  0.00000e+00 0.00000e+00 0.00000e+00 0.00000e+00 0.00000e+00 0.00000e+00\n",
            "  0.00000e+00 0.00000e+00]\n",
            " [1.17000e+02 1.09000e+02 9.65000e+02 8.62000e+02 3.68900e+03 2.53000e+02\n",
            "  2.19000e+02 6.23300e+03 2.93600e+03 8.22000e+02 9.02000e+02 6.90000e+01\n",
            "  1.60000e+01 2.37800e+03 2.40700e+03 8.18000e+03 5.85600e+03 1.69000e+02\n",
            "  1.74790e+04 5.10100e+03 1.97500e+03 1.77500e+03 5.40800e+03 8.15400e+03\n",
            "  9.33250e+04 2.82000e+02 6.05000e+02 1.12900e+03 4.85400e+03 2.63000e+02\n",
            "  2.21500e+03 2.04940e+05 8.52000e+03 8.73000e+02 1.99550e+04 2.39800e+03\n",
            "  1.49000e+02 2.67390e+04 1.46630e+04 2.67900e+03 1.37000e+02 4.67680e+04\n",
            "  3.63100e+03 3.08000e+02 8.73000e+02 0.00000e+00 0.00000e+00 0.00000e+00\n",
            "  0.00000e+00 0.00000e+00 0.00000e+00 0.00000e+00 0.00000e+00 0.00000e+00\n",
            "  0.00000e+00 0.00000e+00 0.00000e+00 0.00000e+00 0.00000e+00 0.00000e+00\n",
            "  0.00000e+00 0.00000e+00 0.00000e+00 0.00000e+00 0.00000e+00 0.00000e+00\n",
            "  0.00000e+00 0.00000e+00 0.00000e+00 0.00000e+00 0.00000e+00 0.00000e+00\n",
            "  0.00000e+00 0.00000e+00 0.00000e+00 0.00000e+00 0.00000e+00 0.00000e+00\n",
            "  0.00000e+00 0.00000e+00]\n",
            " [1.32700e+03 1.12550e+04 2.95590e+04 2.17900e+03 4.13000e+03 1.36420e+04\n",
            "  4.90300e+03 2.03000e+02 1.17700e+03 3.02000e+02 4.90300e+03 2.95590e+04\n",
            "  4.45000e+02 1.14500e+03 2.46000e+02 7.63610e+04 1.64900e+03 1.08900e+03\n",
            "  4.38060e+04 1.12700e+03 1.16130e+04 6.52020e+04 7.32200e+03 1.46500e+03\n",
            "  1.20000e+03 1.28500e+03 5.02200e+03 6.30490e+04 5.90700e+03 2.53000e+02\n",
            "  9.40000e+01 2.75000e+02 3.20200e+03 2.70000e+02 4.96000e+02 7.87200e+03\n",
            "  4.25000e+02 3.14000e+02 2.49000e+02 6.88000e+02 5.00000e+01 2.95590e+04\n",
            "  7.90500e+03 6.61000e+02 1.08000e+02 1.12020e+04 4.18800e+03 2.70000e+02\n",
            "  1.57300e+03 4.38220e+04 6.98700e+03 2.54000e+02 1.69000e+02 8.82900e+03\n",
            "  2.56700e+03 3.22200e+03 4.73000e+02 3.24000e+03 2.01000e+03 1.95770e+04\n",
            "  5.11000e+02 3.86280e+04 5.22000e+02 1.09000e+02 3.12400e+03 8.42700e+03\n",
            "  0.00000e+00 0.00000e+00 0.00000e+00 0.00000e+00 0.00000e+00 0.00000e+00\n",
            "  0.00000e+00 0.00000e+00 0.00000e+00 0.00000e+00 0.00000e+00 0.00000e+00\n",
            "  0.00000e+00 0.00000e+00]\n",
            " [9.33250e+04 1.61000e+02 1.73832e+05 8.04000e+02 1.80000e+02 1.29800e+03\n",
            "  2.48000e+02 3.14220e+04 4.13500e+03 0.00000e+00 0.00000e+00 0.00000e+00\n",
            "  0.00000e+00 0.00000e+00 0.00000e+00 0.00000e+00 0.00000e+00 0.00000e+00\n",
            "  0.00000e+00 0.00000e+00 0.00000e+00 0.00000e+00 0.00000e+00 0.00000e+00\n",
            "  0.00000e+00 0.00000e+00 0.00000e+00 0.00000e+00 0.00000e+00 0.00000e+00\n",
            "  0.00000e+00 0.00000e+00 0.00000e+00 0.00000e+00 0.00000e+00 0.00000e+00\n",
            "  0.00000e+00 0.00000e+00 0.00000e+00 0.00000e+00 0.00000e+00 0.00000e+00\n",
            "  0.00000e+00 0.00000e+00 0.00000e+00 0.00000e+00 0.00000e+00 0.00000e+00\n",
            "  0.00000e+00 0.00000e+00 0.00000e+00 0.00000e+00 0.00000e+00 0.00000e+00\n",
            "  0.00000e+00 0.00000e+00 0.00000e+00 0.00000e+00 0.00000e+00 0.00000e+00\n",
            "  0.00000e+00 0.00000e+00 0.00000e+00 0.00000e+00 0.00000e+00 0.00000e+00\n",
            "  0.00000e+00 0.00000e+00 0.00000e+00 0.00000e+00 0.00000e+00 0.00000e+00\n",
            "  0.00000e+00 0.00000e+00 0.00000e+00 0.00000e+00 0.00000e+00 0.00000e+00\n",
            "  0.00000e+00 0.00000e+00]]\n"
          ]
        }
      ]
    },
    {
      "cell_type": "code",
      "metadata": {
        "colab": {
          "base_uri": "https://localhost:8080/"
        },
        "id": "xnvytMi6aeum",
        "outputId": "80268d49-41c4-4b4d-bb62-9d90c43a0588"
      },
      "source": [
        "# embeddings_test = np.empty([len(test_data), 250, 100])\n",
        "\n",
        "# row_counter = 0\n",
        "# for text in filtered_text_test_w2v:\n",
        "#   column_counter = 0\n",
        "#   for i in range(len(text)):\n",
        "#     embedding = w2v[str(text[i])]\n",
        "#     embeddings_test[row_counter][column_counter] = embedding\n",
        "#     column_counter += 1\n",
        "#     if column_counter == 250:\n",
        "#       break\n",
        "#   row_counter += 1\n",
        "\n",
        "\n",
        "test_indicies = np.empty([len(filtered_text_test_w2v), max_len])\n",
        "for i in range(len(filtered_text_test_w2v)):\n",
        "  text = filtered_text_test_w2v[i]\n",
        "  entry = np.empty(max_len)\n",
        "  for j in range(max_len):\n",
        "    if j >= len(text):\n",
        "      entry[j] = 0\n",
        "    else: \n",
        "      word = text[j]\n",
        "      entry[j] = w2v.wv.vocab[word].index\n",
        "  test_indicies[i] = entry"
      ],
      "execution_count": null,
      "outputs": [
        {
          "output_type": "stream",
          "name": "stderr",
          "text": [
            "/usr/local/lib/python3.7/dist-packages/ipykernel_launcher.py:24: DeprecationWarning: Call to deprecated `wv` (Attribute will be removed in 4.0.0, use self instead).\n"
          ]
        }
      ]
    },
    {
      "cell_type": "code",
      "metadata": {
        "id": "zt3R8j5JAR97",
        "colab": {
          "base_uri": "https://localhost:8080/"
        },
        "outputId": "6e8bb1a6-7cb0-4f62-8545-07543606cdd1"
      },
      "source": [
        "# input_text = tf.keras.layers.Input(shape=(max_len,))\n",
        "# input_year = tf.keras.layers.Input(shape=(1,))\n",
        "# embedding_text = embedding_layer_w2v(input_text)\n",
        "# embedding_year = Embedding(7, 96, name='embedding_layer_year')(input_year)\n",
        "# conv_size_8 = Conv1D(filters=32, kernel_size=8, activation='relu', name='convolutional_layer_8', padding='same')(embedding_text)\n",
        "# conv_size_4 = Conv1D(filters=32, kernel_size=8, activation='relu', name='convolutional_layer_4', padding='same')(embedding_text)\n",
        "# conv_size_2 = Conv1D(filters=32, kernel_size=8, activation='relu', name='convolutional_layer_2', padding='same')(embedding_text)\n",
        "# pooling_8 = MaxPooling1D(pool_size=max_len, name='pooling_8')(conv_size_8)\n",
        "# pooling_4 = MaxPooling1D(pool_size=max_len, name='pooling_4')(conv_size_4)\n",
        "# pooling_2 = MaxPooling1D(pool_size=max_len, name='pooling_2')(conv_size_2)\n",
        "# concat = tf.keras.layers.concatenate([pooling_8, pooling_4, pooling_2], axis=2, name='concatenation')\n",
        "# flatten_text = Flatten(name='flattening_text')(concat)\n",
        "# flatten_year = Flatten(name='flattening_year')(embedding_year)\n",
        "# concat_year = tf.keras.layers.concatenate([flatten_text, flatten_year], axis=1, name='join_year')\n",
        "# dense = Dense(10, activation='relu', name='hidden_layer')(concat_year)\n",
        "# output = Dense(1, activation='sigmoid', name='output_layer')(dense)\n",
        "\n",
        "# model_year_w2v = tf.keras.Model(inputs=[input_text, input_year], outputs=output)\n",
        "# print(model_year_w2v.summary())"
      ],
      "execution_count": null,
      "outputs": [
        {
          "output_type": "stream",
          "name": "stdout",
          "text": [
            "Model: \"model_3\"\n",
            "__________________________________________________________________________________________________\n",
            " Layer (type)                   Output Shape         Param #     Connected to                     \n",
            "==================================================================================================\n",
            " input_7 (InputLayer)           [(None, 80)]         0           []                               \n",
            "                                                                                                  \n",
            " embedding (Embedding)          (None, 80, 100)      40000000    ['input_7[0][0]']                \n",
            "                                                                                                  \n",
            " convolutional_layer_8 (Conv1D)  (None, 80, 32)      25632       ['embedding[0][0]']              \n",
            "                                                                                                  \n",
            " convolutional_layer_4 (Conv1D)  (None, 80, 32)      25632       ['embedding[0][0]']              \n",
            "                                                                                                  \n",
            " convolutional_layer_2 (Conv1D)  (None, 80, 32)      25632       ['embedding[0][0]']              \n",
            "                                                                                                  \n",
            " pooling_8 (MaxPooling1D)       (None, 1, 32)        0           ['convolutional_layer_8[0][0]']  \n",
            "                                                                                                  \n",
            " pooling_4 (MaxPooling1D)       (None, 1, 32)        0           ['convolutional_layer_4[0][0]']  \n",
            "                                                                                                  \n",
            " pooling_2 (MaxPooling1D)       (None, 1, 32)        0           ['convolutional_layer_2[0][0]']  \n",
            "                                                                                                  \n",
            " input_8 (InputLayer)           [(None, 1)]          0           []                               \n",
            "                                                                                                  \n",
            " concatenation (Concatenate)    (None, 1, 96)        0           ['pooling_8[0][0]',              \n",
            "                                                                  'pooling_4[0][0]',              \n",
            "                                                                  'pooling_2[0][0]']              \n",
            "                                                                                                  \n",
            " embedding_layer_year (Embeddin  (None, 1, 96)       672         ['input_8[0][0]']                \n",
            " g)                                                                                               \n",
            "                                                                                                  \n",
            " flattening_text (Flatten)      (None, 96)           0           ['concatenation[0][0]']          \n",
            "                                                                                                  \n",
            " flattening_year (Flatten)      (None, 96)           0           ['embedding_layer_year[0][0]']   \n",
            "                                                                                                  \n",
            " join_year (Concatenate)        (None, 192)          0           ['flattening_text[0][0]',        \n",
            "                                                                  'flattening_year[0][0]']        \n",
            "                                                                                                  \n",
            " hidden_layer (Dense)           (None, 10)           1930        ['join_year[0][0]']              \n",
            "                                                                                                  \n",
            " output_layer (Dense)           (None, 1)            11          ['hidden_layer[0][0]']           \n",
            "                                                                                                  \n",
            "==================================================================================================\n",
            "Total params: 40,079,509\n",
            "Trainable params: 79,509\n",
            "Non-trainable params: 40,000,000\n",
            "__________________________________________________________________________________________________\n",
            "None\n"
          ]
        }
      ]
    },
    {
      "cell_type": "code",
      "metadata": {
        "id": "-17wMr4fHPOF"
      },
      "source": [
        "logdir=\"/content/gdrive/My Drive/large_CNN_w2v/logs/\" + datetime.now().strftime(\"%Y%m%d-%H%M%S\")\n",
        "tensorboard_callback = tf.keras.callbacks.TensorBoard(log_dir=logdir)"
      ],
      "execution_count": null,
      "outputs": []
    },
    {
      "cell_type": "code",
      "metadata": {
        "id": "rHW52LLfdolF",
        "colab": {
          "base_uri": "https://localhost:8080/"
        },
        "outputId": "a4e93492-b6c2-4c83-ff5c-da172e99a70e"
      },
      "source": [
        "# model_year_w2v.compile(loss='binary_crossentropy', optimizer='adam', metrics=['accuracy'])\n",
        "# model_year_w2v.fit([train_indicies, year_tokens], train_sentiment, epochs=10, callbacks=[tensorboard_callback])\n",
        "# model_year_w2v.save(\"/content/gdrive/My Drive/large_CNN_w2v/model\")"
      ],
      "execution_count": null,
      "outputs": [
        {
          "output_type": "stream",
          "name": "stdout",
          "text": [
            "Epoch 1/10\n",
            "1500/1500 [==============================] - 71s 47ms/step - loss: 0.4414 - accuracy: 0.7923\n",
            "Epoch 2/10\n",
            "1500/1500 [==============================] - 70s 47ms/step - loss: 0.3427 - accuracy: 0.8508\n",
            "Epoch 3/10\n",
            "1500/1500 [==============================] - 69s 46ms/step - loss: 0.2727 - accuracy: 0.8869\n",
            "Epoch 4/10\n",
            "1500/1500 [==============================] - 70s 47ms/step - loss: 0.2106 - accuracy: 0.9164\n",
            "Epoch 5/10\n",
            "1500/1500 [==============================] - 70s 47ms/step - loss: 0.1611 - accuracy: 0.9377\n",
            "Epoch 6/10\n",
            "1500/1500 [==============================] - 70s 47ms/step - loss: 0.1279 - accuracy: 0.9510\n",
            "Epoch 7/10\n",
            "1500/1500 [==============================] - 70s 47ms/step - loss: 0.1097 - accuracy: 0.9584\n",
            "Epoch 8/10\n",
            "1500/1500 [==============================] - 70s 47ms/step - loss: 0.0971 - accuracy: 0.9621\n",
            "Epoch 9/10\n",
            "1500/1500 [==============================] - 70s 47ms/step - loss: 0.0915 - accuracy: 0.9641\n",
            "Epoch 10/10\n",
            "1500/1500 [==============================] - 70s 47ms/step - loss: 0.0866 - accuracy: 0.9663\n",
            "INFO:tensorflow:Assets written to: /content/gdrive/My Drive/large_CNN_w2v/model/assets\n"
          ]
        }
      ]
    },
    {
      "cell_type": "code",
      "metadata": {
        "id": "N51Vo10ZHjZT"
      },
      "source": [
        "# %tensorboard --logdir \"/content/gdrive/My Drive/large_CNN_w2v/logs/\""
      ],
      "execution_count": null,
      "outputs": []
    },
    {
      "cell_type": "code",
      "metadata": {
        "colab": {
          "base_uri": "https://localhost:8080/"
        },
        "id": "lL0dVW6yDTri",
        "outputId": "1ab471cd-85dc-40dd-ef8a-7a45ad4047d3"
      },
      "source": [
        "model_loaded_year_w2v = tf.keras.models.load_model('/content/gdrive/My Drive/large_CNN_w2v/model')\n",
        "loss, accuracy = model_loaded_year_w2v.evaluate([test_indicies, test_year_tokens], test_sentiment)\n",
        "print(accuracy * 100)"
      ],
      "execution_count": null,
      "outputs": [
        {
          "output_type": "stream",
          "name": "stdout",
          "text": [
            "375/375 [==============================] - 8s 20ms/step - loss: 0.8173 - accuracy: 0.8202\n",
            "82.02499747276306\n"
          ]
        }
      ]
    },
    {
      "cell_type": "code",
      "metadata": {
        "colab": {
          "base_uri": "https://localhost:8080/"
        },
        "id": "_LTbd5VkyVWV",
        "outputId": "15cf247b-c996-47e5-9e68-1e95ed1a4564"
      },
      "source": [
        "print(vocab_size)\n",
        "w2v_vocab = set(w2v.vocab.keys())\n",
        "print(len(w2v_vocab.intersection(vocab)))"
      ],
      "execution_count": null,
      "outputs": [
        {
          "output_type": "stream",
          "name": "stdout",
          "text": [
            "21413\n",
            "18748\n"
          ]
        }
      ]
    },
    {
      "cell_type": "markdown",
      "metadata": {
        "id": "NfZiEOx5NgbN"
      },
      "source": [
        "TODO\n",
        "\n",
        "* Look into layers and see why the accuracy drops\n",
        "* hold out one year of data and see what happens there\n",
        "* Try with word2vec to extract better cosine similarity\n"
      ]
    },
    {
      "cell_type": "markdown",
      "metadata": {
        "id": "aKGBYW_TW9zV"
      },
      "source": [
        "* only one signal provided in one filter\n",
        "* No concept of context here\n",
        "* add year as its own embedding to the flattened vector\n",
        "* send into BERT year and the text separately. "
      ]
    }
  ]
}